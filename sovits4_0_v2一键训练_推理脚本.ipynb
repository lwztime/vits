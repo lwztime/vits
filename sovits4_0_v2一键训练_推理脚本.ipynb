{
  "nbformat": 4,
  "nbformat_minor": 0,
  "metadata": {
    "colab": {
      "provenance": [],
      "gpuType": "T4",
      "include_colab_link": true
    },
    "kernelspec": {
      "name": "python3",
      "display_name": "Python 3"
    },
    "language_info": {
      "name": "python"
    },
    "accelerator": "GPU"
  },
  "cells": [
    {
      "cell_type": "markdown",
      "metadata": {
        "id": "view-in-github",
        "colab_type": "text"
      },
      "source": [
        "<a href=\"https://colab.research.google.com/github/lwztime/vits/blob/main/sovits4_0_v2%E4%B8%80%E9%94%AE%E8%AE%AD%E7%BB%83_%E6%8E%A8%E7%90%86%E8%84%9A%E6%9C%AC.ipynb\" target=\"_parent\"><img src=\"https://colab.research.google.com/assets/colab-badge.svg\" alt=\"Open In Colab\"/></a>"
      ]
    },
    {
      "cell_type": "markdown",
      "source": [
        "初始项目：https://github.com/innnky/so-vits-svc\n",
        "\n",
        "修改日期：2023年3月13日\n",
        "\n",
        "原始Colab 链接<a target=\"_blank\" href=\"https://colab.research.google.com/drive/19fxpo-ZoL_ShEUeZIZi6Di-YioWrEyhR\">\n",
        "  <img src=\"https://colab.research.google.com/assets/colab-badge.svg\" alt=\"Open In Colab\"/>\n",
        "</a>"
      ],
      "metadata": {
        "id": "lTrPmOt6ZROg"
      }
    },
    {
      "cell_type": "code",
      "source": [
        "# 查看显卡\n",
        "!nvidia-smi\n",
        "!pwd"
      ],
      "metadata": {
        "colab": {
          "base_uri": "https://localhost:8080/"
        },
        "id": "0gQcIZ8RsOkn",
        "outputId": "a3a12543-cee0-4042-bed7-e8f0d55ca46a"
      },
      "execution_count": 1,
      "outputs": [
        {
          "output_type": "stream",
          "name": "stdout",
          "text": [
            "Mon Jun 30 05:20:16 2025       \n",
            "+-----------------------------------------------------------------------------------------+\n",
            "| NVIDIA-SMI 550.54.15              Driver Version: 550.54.15      CUDA Version: 12.4     |\n",
            "|-----------------------------------------+------------------------+----------------------+\n",
            "| GPU  Name                 Persistence-M | Bus-Id          Disp.A | Volatile Uncorr. ECC |\n",
            "| Fan  Temp   Perf          Pwr:Usage/Cap |           Memory-Usage | GPU-Util  Compute M. |\n",
            "|                                         |                        |               MIG M. |\n",
            "|=========================================+========================+======================|\n",
            "|   0  Tesla T4                       Off |   00000000:00:04.0 Off |                    0 |\n",
            "| N/A   55C    P8             10W /   70W |       0MiB /  15360MiB |      0%      Default |\n",
            "|                                         |                        |                  N/A |\n",
            "+-----------------------------------------+------------------------+----------------------+\n",
            "                                                                                         \n",
            "+-----------------------------------------------------------------------------------------+\n",
            "| Processes:                                                                              |\n",
            "|  GPU   GI   CI        PID   Type   Process name                              GPU Memory |\n",
            "|        ID   ID                                                               Usage      |\n",
            "|=========================================================================================|\n",
            "|  No running processes found                                                             |\n",
            "+-----------------------------------------------------------------------------------------+\n",
            "/content\n"
          ]
        }
      ]
    },
    {
      "cell_type": "markdown",
      "source": [],
      "metadata": {
        "id": "CJDlNiqLKcTq"
      }
    },
    {
      "cell_type": "code",
      "execution_count": 1,
      "metadata": {
        "id": "LS0OPRkL4Pme",
        "outputId": "9f11a4d2-f24b-4888-98c3-15382e893e8b",
        "colab": {
          "base_uri": "https://localhost:8080/"
        }
      },
      "outputs": [
        {
          "output_type": "stream",
          "name": "stdout",
          "text": [
            "Cloning into 'so-vits-svc'...\n",
            "remote: Enumerating objects: 931, done.\u001b[K\n",
            "remote: Counting objects: 100% (18/18), done.\u001b[K\n",
            "remote: Compressing objects: 100% (18/18), done.\u001b[K\n",
            "remote: Total 931 (delta 3), reused 1 (delta 0), pack-reused 913 (from 1)\u001b[K\n",
            "Receiving objects: 100% (931/931), 25.41 MiB | 15.56 MiB/s, done.\n",
            "Resolving deltas: 100% (446/446), done.\n"
          ]
        }
      ],
      "source": [
        "#@title 克隆的github仓库\n",
        "!git clone https://github.com/innnky/so-vits-svc.git\n"
      ]
    },
    {
      "cell_type": "code",
      "source": [
        "#@title 安装依赖\n",
        "%cd /content/so-vits-svc\n",
        "!pip install --upgrade pip setuptools numpy numba\n",
        "#!pip install numpy==1.23.5\n",
        "!pip install pyworld praat-parselmouth fairseq"
      ],
      "metadata": {
        "id": "zXBLkXxL4T1O",
        "outputId": "3d5b9b5b-306b-4130-e4c6-7b5b741c3ba4",
        "colab": {
          "base_uri": "https://localhost:8080/"
        }
      },
      "execution_count": 1,
      "outputs": [
        {
          "output_type": "stream",
          "name": "stdout",
          "text": [
            "/content/so-vits-svc\n",
            "Requirement already satisfied: pip in /usr/local/lib/python3.11/dist-packages (25.1.1)\n",
            "Requirement already satisfied: setuptools in /usr/local/lib/python3.11/dist-packages (80.9.0)\n",
            "Requirement already satisfied: numpy in /usr/local/lib/python3.11/dist-packages (2.2.6)\n",
            "Collecting numpy\n",
            "  Using cached numpy-2.3.1-cp311-cp311-manylinux_2_28_x86_64.whl.metadata (62 kB)\n",
            "Requirement already satisfied: numba in /usr/local/lib/python3.11/dist-packages (0.61.2)\n",
            "Requirement already satisfied: llvmlite<0.45,>=0.44.0dev0 in /usr/local/lib/python3.11/dist-packages (from numba) (0.44.0)\n",
            "Collecting pyworld\n",
            "  Using cached pyworld-0.3.5.tar.gz (261 kB)\n",
            "  Installing build dependencies ... \u001b[?25l\u001b[?25hdone\n",
            "  Getting requirements to build wheel ... \u001b[?25l\u001b[?25hdone\n",
            "  Preparing metadata (pyproject.toml) ... \u001b[?25l\u001b[?25hdone\n",
            "Collecting praat-parselmouth\n",
            "  Downloading praat_parselmouth-0.4.6-cp311-cp311-manylinux_2_17_x86_64.manylinux2014_x86_64.whl.metadata (2.9 kB)\n",
            "Collecting fairseq\n",
            "  Downloading fairseq-0.12.2.tar.gz (9.6 MB)\n",
            "\u001b[2K     \u001b[90m━━━━━━━━━━━━━━━━━━━━━━━━━━━━━━━━━━━━━━━━\u001b[0m \u001b[32m9.6/9.6 MB\u001b[0m \u001b[31m134.3 MB/s\u001b[0m eta \u001b[36m0:00:00\u001b[0m\n",
            "\u001b[?25h  Installing build dependencies ... \u001b[?25l\u001b[?25hdone\n",
            "  Getting requirements to build wheel ... \u001b[?25l\u001b[?25hdone\n",
            "  Installing backend dependencies ... \u001b[?25l\u001b[?25hdone\n",
            "  Preparing metadata (pyproject.toml) ... \u001b[?25l\u001b[?25hdone\n",
            "Requirement already satisfied: numpy in /usr/local/lib/python3.11/dist-packages (from pyworld) (2.2.6)\n",
            "Requirement already satisfied: cffi in /usr/local/lib/python3.11/dist-packages (from fairseq) (1.17.1)\n",
            "Requirement already satisfied: cython in /usr/local/lib/python3.11/dist-packages (from fairseq) (3.0.12)\n",
            "Collecting hydra-core<1.1,>=1.0.7 (from fairseq)\n",
            "  Downloading hydra_core-1.0.7-py3-none-any.whl.metadata (3.7 kB)\n",
            "Collecting omegaconf<2.1 (from fairseq)\n",
            "  Downloading omegaconf-2.0.6-py3-none-any.whl.metadata (3.0 kB)\n",
            "\u001b[33mWARNING: Ignoring version 2.0.6 of omegaconf since it has invalid metadata:\n",
            "Requested omegaconf<2.1 from https://files.pythonhosted.org/packages/d0/eb/9d63ce09dd8aa85767c65668d5414958ea29648a0eec80a4a7d311ec2684/omegaconf-2.0.6-py3-none-any.whl (from fairseq) has invalid metadata: .* suffix can only be used with `==` or `!=` operators\n",
            "    PyYAML (>=5.1.*)\n",
            "            ~~~~~~^\n",
            "Please use pip<24.1 if you need to use this version.\u001b[0m\u001b[33m\n",
            "\u001b[0m  Downloading omegaconf-2.0.5-py3-none-any.whl.metadata (3.0 kB)\n",
            "\u001b[33mWARNING: Ignoring version 2.0.5 of omegaconf since it has invalid metadata:\n",
            "Requested omegaconf<2.1 from https://files.pythonhosted.org/packages/e5/f6/043b6d255dd6fbf2025110cea35b87f4c5100a181681d8eab496269f0d5b/omegaconf-2.0.5-py3-none-any.whl (from fairseq) has invalid metadata: .* suffix can only be used with `==` or `!=` operators\n",
            "    PyYAML (>=5.1.*)\n",
            "            ~~~~~~^\n",
            "Please use pip<24.1 if you need to use this version.\u001b[0m\u001b[33m\n",
            "\u001b[0m  Downloading omegaconf-2.0.4-py3-none-any.whl.metadata (3.0 kB)\n",
            "\u001b[33mWARNING: Ignoring version 2.0.4 of omegaconf since it has invalid metadata:\n",
            "Requested omegaconf<2.1 from https://files.pythonhosted.org/packages/92/b1/4f3023143436f12c98bab53f0b3db617bd18a7d223627d5030e13a7b4fc2/omegaconf-2.0.4-py3-none-any.whl (from fairseq) has invalid metadata: .* suffix can only be used with `==` or `!=` operators\n",
            "    PyYAML (>=5.1.*)\n",
            "            ~~~~~~^\n",
            "Please use pip<24.1 if you need to use this version.\u001b[0m\u001b[33m\n",
            "\u001b[0m  Downloading omegaconf-2.0.3-py3-none-any.whl.metadata (3.0 kB)\n",
            "\u001b[33mWARNING: Ignoring version 2.0.3 of omegaconf since it has invalid metadata:\n",
            "Requested omegaconf<2.1 from https://files.pythonhosted.org/packages/29/08/a88210c2c1aa0a3f65f05d8a6c98939ccb84b6fb982aa6567dec4e6773f9/omegaconf-2.0.3-py3-none-any.whl (from fairseq) has invalid metadata: .* suffix can only be used with `==` or `!=` operators\n",
            "    PyYAML (>=5.1.*)\n",
            "            ~~~~~~^\n",
            "Please use pip<24.1 if you need to use this version.\u001b[0m\u001b[33m\n",
            "\u001b[0m  Downloading omegaconf-2.0.2-py3-none-any.whl.metadata (3.0 kB)\n",
            "\u001b[33mWARNING: Ignoring version 2.0.2 of omegaconf since it has invalid metadata:\n",
            "Requested omegaconf<2.1 from https://files.pythonhosted.org/packages/72/fe/f8d162aa059fb4f327fd75144dd69aa7e8acbb6d8d37013e4638c8490e0b/omegaconf-2.0.2-py3-none-any.whl (from fairseq) has invalid metadata: .* suffix can only be used with `==` or `!=` operators\n",
            "    PyYAML (>=5.1.*)\n",
            "            ~~~~~~^\n",
            "Please use pip<24.1 if you need to use this version.\u001b[0m\u001b[33m\n",
            "\u001b[0m  Downloading omegaconf-2.0.1-py3-none-any.whl.metadata (3.0 kB)\n",
            "\u001b[33mWARNING: Ignoring version 2.0.1 of omegaconf since it has invalid metadata:\n",
            "Requested omegaconf<2.1 from https://files.pythonhosted.org/packages/86/ec/605805e60abdb025b06664d107335031bb8ebdc52e0a90bdbad6a7130279/omegaconf-2.0.1-py3-none-any.whl (from fairseq) has invalid metadata: .* suffix can only be used with `==` or `!=` operators\n",
            "    PyYAML (>=5.1.*)\n",
            "            ~~~~~~^\n",
            "Please use pip<24.1 if you need to use this version.\u001b[0m\u001b[33m\n",
            "\u001b[0m  Downloading omegaconf-2.0.0-py3-none-any.whl.metadata (3.5 kB)\n",
            "Requirement already satisfied: regex in /usr/local/lib/python3.11/dist-packages (from fairseq) (2024.11.6)\n",
            "Collecting sacrebleu>=1.4.12 (from fairseq)\n",
            "  Downloading sacrebleu-2.5.1-py3-none-any.whl.metadata (51 kB)\n",
            "Requirement already satisfied: torch in /usr/local/lib/python3.11/dist-packages (from fairseq) (2.6.0+cu124)\n",
            "Requirement already satisfied: tqdm in /usr/local/lib/python3.11/dist-packages (from fairseq) (4.67.1)\n",
            "Collecting bitarray (from fairseq)\n",
            "  Downloading bitarray-3.4.3-cp311-cp311-manylinux_2_17_x86_64.manylinux2014_x86_64.whl.metadata (33 kB)\n",
            "Requirement already satisfied: torchaudio>=0.8.0 in /usr/local/lib/python3.11/dist-packages (from fairseq) (2.6.0+cu124)\n",
            "Collecting omegaconf<2.1 (from fairseq)\n",
            "  Using cached omegaconf-2.0.6-py3-none-any.whl.metadata (3.0 kB)\n",
            "\u001b[33mWARNING: Ignoring version 2.0.6 of omegaconf since it has invalid metadata:\n",
            "Requested omegaconf<2.1 from https://files.pythonhosted.org/packages/d0/eb/9d63ce09dd8aa85767c65668d5414958ea29648a0eec80a4a7d311ec2684/omegaconf-2.0.6-py3-none-any.whl (from fairseq) has invalid metadata: .* suffix can only be used with `==` or `!=` operators\n",
            "    PyYAML (>=5.1.*)\n",
            "            ~~~~~~^\n",
            "Please use pip<24.1 if you need to use this version.\u001b[0m\u001b[33m\n",
            "\u001b[0m  Using cached omegaconf-2.0.5-py3-none-any.whl.metadata (3.0 kB)\n",
            "\u001b[33mWARNING: Ignoring version 2.0.5 of omegaconf since it has invalid metadata:\n",
            "Requested omegaconf<2.1 from https://files.pythonhosted.org/packages/e5/f6/043b6d255dd6fbf2025110cea35b87f4c5100a181681d8eab496269f0d5b/omegaconf-2.0.5-py3-none-any.whl (from fairseq) has invalid metadata: .* suffix can only be used with `==` or `!=` operators\n",
            "    PyYAML (>=5.1.*)\n",
            "            ~~~~~~^\n",
            "Please use pip<24.1 if you need to use this version.\u001b[0m\u001b[33m\n",
            "\u001b[0mINFO: pip is looking at multiple versions of hydra-core to determine which version is compatible with other requirements. This could take a while.\n",
            "Collecting fairseq\n",
            "  Downloading fairseq-0.12.1.tar.gz (9.6 MB)\n",
            "\u001b[2K     \u001b[90m━━━━━━━━━━━━━━━━━━━━━━━━━━━━━━━━━━━━━━━━\u001b[0m \u001b[32m9.6/9.6 MB\u001b[0m \u001b[31m31.2 MB/s\u001b[0m eta \u001b[36m0:00:00\u001b[0m\n",
            "\u001b[?25h  Installing build dependencies ... \u001b[?25l\u001b[?25hdone\n",
            "  \u001b[1;31merror\u001b[0m: \u001b[1msubprocess-exited-with-error\u001b[0m\n",
            "  \n",
            "  \u001b[31m×\u001b[0m \u001b[32mGetting requirements to build wheel\u001b[0m did not run successfully.\n",
            "  \u001b[31m│\u001b[0m exit code: \u001b[1;36m1\u001b[0m\n",
            "  \u001b[31m╰─>\u001b[0m See above for output.\n",
            "  \n",
            "  \u001b[1;35mnote\u001b[0m: This error originates from a subprocess, and is likely not a problem with pip.\n",
            "  Getting requirements to build wheel ... \u001b[?25l\u001b[?25herror\n",
            "\u001b[1;31merror\u001b[0m: \u001b[1msubprocess-exited-with-error\u001b[0m\n",
            "\n",
            "\u001b[31m×\u001b[0m \u001b[32mGetting requirements to build wheel\u001b[0m did not run successfully.\n",
            "\u001b[31m│\u001b[0m exit code: \u001b[1;36m1\u001b[0m\n",
            "\u001b[31m╰─>\u001b[0m See above for output.\n",
            "\n",
            "\u001b[1;35mnote\u001b[0m: This error originates from a subprocess, and is likely not a problem with pip.\n"
          ]
        }
      ]
    },
    {
      "cell_type": "code",
      "source": [
        "#@title 下载必要模型文件\n",
        "# 源仓库地址：[contentvec](https://github.com/auspicious3000/contentvec)\n",
        "# 模型原下载链接：[checkpoint_best_legacy_500.pt](https://ibm.box.com/s/z1wgl1stco8ffooyatzdwsqn2psd9lrr)\n",
        "# 由于源网盘无法提供http直链，根据mit协议，对模型进行二次分发，提供下载直链\n",
        "#!wget -P hubert/ https://huggingface.co/innnky/contentvec/resolve/main/checkpoint_best_legacy_500.pt\n",
        "!wget https://public.boxcloud.com/d/1/b1!jNI-oXEcD9nL_QmmbaZfswubs280MVSQRraZAymktBwoKCHa5U-RrnRD3gxItLgdQ7ja0Ev9J5s73s_O6nxlAbDJ9yBJGWciGlBFEST4txPmFu_cob1b4xS8uLUWdpZXGQz_pt-hQXYG6I4w0oX8YzsoIDkgk1bHY62c4x46TdokH9BdViM_V64arxF2HOfbK73tWvaBMxFLnBorvoqOuyi0fpy6ClOY13xInyDWczfwjBMy0YZaldpS5HlbBJUiIpOHairuP6JTBZJklARYj9I6NIV3PfjdkvDak93s1ba51xC6K7kMnDPpR2SkkzR97P2SDfFkBJ5XqBGPUIvYkKXO09dMyCRAMwmjoL7Rq8noy0XHEb5gyNCiei10Nga33JcBTLzSWaeV5THwslvQ29ocKhLm04ZIpBrdxJ2xeF75iGMYOfT-v_dGR3tA8UQcf56Me4NVklkD7DEjiPopu1fUQEunvpnzDq7rmzJ9_hzDh2vfMDMwr1TQtYjmfb2aBZiF5QqeQs5ljUfAFoP6d8S33ENYfY5uTaRKJ31VMVHb-8unQqFFtCCcrNjl_HIb0T1lgjTBQNlV1Yf2d_C1z_urGIuBMYBdQr3KXWpoF4yA-CgZYvvMc3niJOP6wCEvd1SQfCuuZVQI9aeQE4g92rOslUrfo7OIMVXj8W1MiXIx3IVFZpcsAtgYpwTIwNeDhbukHfMs0QRc2plMfH6P36QBD9oNmd_lolpAI_QZxUHYFa0HYjA2x_fhj6XrzQmFKCLse8KHhSI1feVbEmMZ_kJQ4Z8i9hai8I9eiAuYFrfsZdG3RWZoTYExk5Ci64kUqfKyLYrvtb2jWrQTZNR7JHjpdi-WiYic8mkUwZ01RylgU5Nixz_pWNJsPuWIN5hRR30fUU4v2m4gMwoGqTYqXd8WSRn1Fu0EgHU6DPfZIqWBVw6sFclTc1Xw6fl5hCNjxGcktIfuKB5J9238a4fEM-aGgcumky0L0ITcBYWikLJnGuZBoMe56oMXFc7tAsHqvFFrZXSrb0aRusWbc4M0nT8qlmyYX1eZQCHURzNnJ7juN4gaCorpYwK4sdeoYV3L6DGwifJRY1DHmMEyYtk4x0-m4_WPPansJ_c6_wL-Ru5UxKGG0nHy3Hj9m_XjytdGE7QeWFb79rmOPd4S7Yos-IG5qwAkAFNJe-VknvguB02_PyKcyXL31-J9v4gKJsS1ISeMJ6UKWj4nBrgbJLmDCa3nvml80nJgSJM3BcOLC-3Dg0vEEo6TK1ijYrLOpacehYBCUTRzxGhdXseQ05a46b56_A8cFEUqI-TzwXyR8ifVCUlcA9c14wqLYe0nlB1997BvXLHY68Kfo8cBEiXXUR20xvrZtUAwv4Y0-xFxUOxk2VjX6vUyajxpsn4T4YXRhIMj1KceVAi-gA../download\n",
        "!mv download checkpoint_best_legacy_500.pt"
      ],
      "metadata": {
        "id": "pCqf3W0d6ify",
        "outputId": "bdc7fb95-c760-4f02-8c2b-3e0fc2d742e0",
        "colab": {
          "base_uri": "https://localhost:8080/"
        }
      },
      "execution_count": 4,
      "outputs": [
        {
          "output_type": "stream",
          "name": "stdout",
          "text": [
            "--2025-06-30 05:25:41--  https://public.boxcloud.com/d/1/b1!jNI-oXEcD9nL_QmmbaZfswubs280MVSQRraZAymktBwoKCHa5U-RrnRD3gxItLgdQ7ja0Ev9J5s73s_O6nxlAbDJ9yBJGWciGlBFEST4txPmFu_cob1b4xS8uLUWdpZXGQz_pt-hQXYG6I4w0oX8YzsoIDkgk1bHY62c4x46TdokH9BdViM_V64arxF2HOfbK73tWvaBMxFLnBorvoqOuyi0fpy6ClOY13xInyDWczfwjBMy0YZaldpS5HlbBJUiIpOHairuP6JTBZJklARYj9I6NIV3PfjdkvDak93s1ba51xC6K7kMnDPpR2SkkzR97P2SDfFkBJ5XqBGPUIvYkKXO09dMyCRAMwmjoL7Rq8noy0XHEb5gyNCiei10Nga33JcBTLzSWaeV5THwslvQ29ocKhLm04ZIpBrdxJ2xeF75iGMYOfT-v_dGR3tA8UQcf56Me4NVklkD7DEjiPopu1fUQEunvpnzDq7rmzJ9_hzDh2vfMDMwr1TQtYjmfb2aBZiF5QqeQs5ljUfAFoP6d8S33ENYfY5uTaRKJ31VMVHb-8unQqFFtCCcrNjl_HIb0T1lgjTBQNlV1Yf2d_C1z_urGIuBMYBdQr3KXWpoF4yA-CgZYvvMc3niJOP6wCEvd1SQfCuuZVQI9aeQE4g92rOslUrfo7OIMVXj8W1MiXIx3IVFZpcsAtgYpwTIwNeDhbukHfMs0QRc2plMfH6P36QBD9oNmd_lolpAI_QZxUHYFa0HYjA2x_fhj6XrzQmFKCLse8KHhSI1feVbEmMZ_kJQ4Z8i9hai8I9eiAuYFrfsZdG3RWZoTYExk5Ci64kUqfKyLYrvtb2jWrQTZNR7JHjpdi-WiYic8mkUwZ01RylgU5Nixz_pWNJsPuWIN5hRR30fUU4v2m4gMwoGqTYqXd8WSRn1Fu0EgHU6DPfZIqWBVw6sFclTc1Xw6fl5hCNjxGcktIfuKB5J9238a4fEM-aGgcumky0L0ITcBYWikLJnGuZBoMe56oMXFc7tAsHqvFFrZXSrb0aRusWbc4M0nT8qlmyYX1eZQCHURzNnJ7juN4gaCorpYwK4sdeoYV3L6DGwifJRY1DHmMEyYtk4x0-m4_WPPansJ_c6_wL-Ru5UxKGG0nHy3Hj9m_XjytdGE7QeWFb79rmOPd4S7Yos-IG5qwAkAFNJe-VknvguB02_PyKcyXL31-J9v4gKJsS1ISeMJ6UKWj4nBrgbJLmDCa3nvml80nJgSJM3BcOLC-3Dg0vEEo6TK1ijYrLOpacehYBCUTRzxGhdXseQ05a46b56_A8cFEUqI-TzwXyR8ifVCUlcA9c14wqLYe0nlB1997BvXLHY68Kfo8cBEiXXUR20xvrZtUAwv4Y0-xFxUOxk2VjX6vUyajxpsn4T4YXRhIMj1KceVAi-gA../download\n",
            "Resolving public.boxcloud.com (public.boxcloud.com)... 74.112.186.165, 2620:117:bff0:69::\n",
            "Connecting to public.boxcloud.com (public.boxcloud.com)|74.112.186.165|:443... connected.\n",
            "HTTP request sent, awaiting response... 200 OK\n",
            "Length: 1330114945 (1.2G) [application/octet-stream]\n",
            "Saving to: ‘download’\n",
            "\n",
            "download            100%[===================>]   1.24G  17.5MB/s    in 75s     \n",
            "\n",
            "2025-06-30 05:26:57 (17.0 MB/s) - ‘download’ saved [1330114945/1330114945]\n",
            "\n"
          ]
        }
      ]
    },
    {
      "cell_type": "code",
      "source": [
        "cp /content/drive/MyDrive/checkpoint_best_legacy_500.pt /content/so-vits-svc/"
      ],
      "metadata": {
        "id": "NODSNWRvWvh9"
      },
      "execution_count": 3,
      "outputs": []
    },
    {
      "cell_type": "code",
      "source": [
        "!pwd"
      ],
      "metadata": {
        "id": "4Ga125rVML6E",
        "outputId": "6c8df1a2-df43-4f6f-ae16-b86cd736507e",
        "colab": {
          "base_uri": "https://localhost:8080/"
        }
      },
      "execution_count": null,
      "outputs": [
        {
          "output_type": "stream",
          "name": "stdout",
          "text": [
            "/content/so-vits-svc\n"
          ]
        }
      ]
    },
    {
      "cell_type": "markdown",
      "source": [
        "# 数据集预处理"
      ],
      "metadata": {
        "id": "k1qadJBFehMo"
      }
    },
    {
      "cell_type": "markdown",
      "source": [],
      "metadata": {
        "id": "jW-Lj2XlL70Y"
      }
    },
    {
      "cell_type": "code",
      "source": [
        "#@title 加载Google云端硬盘\n",
        "#@markdown 加载Google云端硬盘\n",
        "from google.colab import drive\n",
        "drive.mount('/content/drive')"
      ],
      "metadata": {
        "id": "wmUkpUmfn_Hs",
        "colab": {
          "base_uri": "https://localhost:8080/"
        },
        "outputId": "7902b863-8fbf-4d4c-9a45-9fd386c20c69"
      },
      "execution_count": 2,
      "outputs": [
        {
          "output_type": "stream",
          "name": "stdout",
          "text": [
            "Mounted at /content/drive\n"
          ]
        }
      ]
    },
    {
      "cell_type": "markdown",
      "source": [
        "该处理脚本可以一次性预处理多个说话人，并且生成多说话人filelists以及对应的配置文件\n",
        "\n",
        "只需要将你的数据集按照以下文件结构放到dataset_raw目录下\n",
        "\n",
        "\n",
        "```\n",
        "dataset_raw\n",
        "├───speaker0\n",
        "│   ├───xxx1-xxx1.wav\n",
        "│   ├───...\n",
        "│   └───Lxx-0xx8.wav\n",
        "└───speaker1\n",
        "    ├───xx2-0xxx2.wav\n",
        "    ├───...\n",
        "    └───xxx7-xxx007.wav\n",
        "\n",
        "```\n",
        "\n",
        "\n"
      ],
      "metadata": {
        "id": "kBlju6Q3lSM6"
      }
    },
    {
      "cell_type": "code",
      "source": [
        "#@title 从谷歌云盘加载打包好的数据集进行预处理\n",
        "#@markdown **sovits4.0的数据集不再需要特定的文件结构，将数据集的所有wav文件放在同一个文件夹下压缩为zip后上传至谷歌云盘即可，该处理脚本可以一次性预处理多个数据集，处理多个数据集时请依次解压每一个数据集**\n",
        "\n",
        "#@markdown 数据集名称（**人物的英文/拼音名**，与建数据文件夹时统一；不带zip。）\n",
        "DATASETNAME = \"ner\"  #@param {type:\"string\"}\n",
        "#@markdown 压缩包路径（谷歌盘路径，传到dataset的就不改这个，没有dataset文件夹就新建一个）\n",
        "ZIP_PATH = \"/content/drive/MyDrive/dataset/\"  #@param {type:\"string\"}\n",
        "ZIP_NAME = ZIP_PATH + DATASETNAME\n",
        "\n",
        "!unzip -d /content/so-vits-svc/dataset_raw {ZIP_NAME}.zip"
      ],
      "metadata": {
        "id": "U05CXlAipvJR",
        "colab": {
          "base_uri": "https://localhost:8080/"
        },
        "outputId": "255529ab-2c00-4691-d290-6068c3d7a65c"
      },
      "execution_count": null,
      "outputs": [
        {
          "output_type": "stream",
          "name": "stdout",
          "text": [
            "Archive:  /content/drive/MyDrive/dataset/ner.zip\n",
            "   creating: /content/so-vits-svc/dataset_raw/ner/\n",
            "  inflating: /content/so-vits-svc/dataset_raw/ner/ner0001.wav  \n",
            "  inflating: /content/so-vits-svc/dataset_raw/ner/ner0002.wav  \n",
            "  inflating: /content/so-vits-svc/dataset_raw/ner/ner0003.wav  \n",
            "  inflating: /content/so-vits-svc/dataset_raw/ner/ner0004.wav  \n",
            "  inflating: /content/so-vits-svc/dataset_raw/ner/ner0005.wav  \n",
            "  inflating: /content/so-vits-svc/dataset_raw/ner/ner0006.wav  \n",
            "  inflating: /content/so-vits-svc/dataset_raw/ner/ner0007.wav  \n",
            "  inflating: /content/so-vits-svc/dataset_raw/ner/ner0008.wav  \n",
            "  inflating: /content/so-vits-svc/dataset_raw/ner/ner0009.wav  \n",
            "  inflating: /content/so-vits-svc/dataset_raw/ner/ner0010.wav  \n",
            "  inflating: /content/so-vits-svc/dataset_raw/ner/ner0011.wav  \n",
            "  inflating: /content/so-vits-svc/dataset_raw/ner/ner0012.wav  \n",
            "  inflating: /content/so-vits-svc/dataset_raw/ner/ner0013.wav  \n",
            "  inflating: /content/so-vits-svc/dataset_raw/ner/ner0014.wav  \n",
            "  inflating: /content/so-vits-svc/dataset_raw/ner/ner0015.wav  \n",
            "  inflating: /content/so-vits-svc/dataset_raw/ner/ner0016.wav  \n",
            "  inflating: /content/so-vits-svc/dataset_raw/ner/ner0017.wav  \n",
            "  inflating: /content/so-vits-svc/dataset_raw/ner/ner0018.wav  \n",
            "  inflating: /content/so-vits-svc/dataset_raw/ner/ner0019.wav  \n",
            "  inflating: /content/so-vits-svc/dataset_raw/ner/ner0020.wav  \n",
            "  inflating: /content/so-vits-svc/dataset_raw/ner/ner0021.wav  \n",
            "  inflating: /content/so-vits-svc/dataset_raw/ner/ner0022.wav  \n",
            "  inflating: /content/so-vits-svc/dataset_raw/ner/ner0023.wav  \n",
            "  inflating: /content/so-vits-svc/dataset_raw/ner/ner0024.wav  \n",
            "  inflating: /content/so-vits-svc/dataset_raw/ner/ner0025.wav  \n",
            "  inflating: /content/so-vits-svc/dataset_raw/ner/ner0026.wav  \n",
            "  inflating: /content/so-vits-svc/dataset_raw/ner/ner0027.wav  \n",
            "  inflating: /content/so-vits-svc/dataset_raw/ner/ner0028.wav  \n",
            "  inflating: /content/so-vits-svc/dataset_raw/ner/ner0029.wav  \n",
            "  inflating: /content/so-vits-svc/dataset_raw/ner/ner0030.wav  \n",
            "  inflating: /content/so-vits-svc/dataset_raw/ner/ner0031.wav  \n",
            "  inflating: /content/so-vits-svc/dataset_raw/ner/ner0032.wav  \n",
            "  inflating: /content/so-vits-svc/dataset_raw/ner/ner0033.wav  \n",
            "  inflating: /content/so-vits-svc/dataset_raw/ner/ner0034.wav  \n",
            "  inflating: /content/so-vits-svc/dataset_raw/ner/ner0035.wav  \n",
            "  inflating: /content/so-vits-svc/dataset_raw/ner/ner0036.wav  \n",
            "  inflating: /content/so-vits-svc/dataset_raw/ner/ner0037.wav  \n",
            "  inflating: /content/so-vits-svc/dataset_raw/ner/ner0038.wav  \n",
            "  inflating: /content/so-vits-svc/dataset_raw/ner/ner0039.wav  \n",
            "  inflating: /content/so-vits-svc/dataset_raw/ner/ner0040.wav  \n",
            "  inflating: /content/so-vits-svc/dataset_raw/ner/ner0041.wav  \n",
            "  inflating: /content/so-vits-svc/dataset_raw/ner/ner0042.wav  \n",
            "  inflating: /content/so-vits-svc/dataset_raw/ner/ner0043.wav  \n",
            "  inflating: /content/so-vits-svc/dataset_raw/ner/ner0044.wav  \n",
            "  inflating: /content/so-vits-svc/dataset_raw/ner/ner0045.wav  \n",
            "  inflating: /content/so-vits-svc/dataset_raw/ner/ner0046.wav  \n",
            "  inflating: /content/so-vits-svc/dataset_raw/ner/ner0047.wav  \n",
            "  inflating: /content/so-vits-svc/dataset_raw/ner/ner0048.wav  \n",
            "  inflating: /content/so-vits-svc/dataset_raw/ner/ner0049.wav  \n",
            "  inflating: /content/so-vits-svc/dataset_raw/ner/ner0050.wav  \n",
            "  inflating: /content/so-vits-svc/dataset_raw/ner/ner0051.wav  \n",
            "  inflating: /content/so-vits-svc/dataset_raw/ner/ner0052.wav  \n",
            "  inflating: /content/so-vits-svc/dataset_raw/ner/ner0053.wav  \n",
            "  inflating: /content/so-vits-svc/dataset_raw/ner/ner0054.wav  \n",
            "  inflating: /content/so-vits-svc/dataset_raw/ner/ner0055.wav  \n",
            "  inflating: /content/so-vits-svc/dataset_raw/ner/ner0056.wav  \n",
            "  inflating: /content/so-vits-svc/dataset_raw/ner/ner0057.wav  \n",
            "  inflating: /content/so-vits-svc/dataset_raw/ner/ner0058.wav  \n",
            "  inflating: /content/so-vits-svc/dataset_raw/ner/ner0059.wav  \n",
            "  inflating: /content/so-vits-svc/dataset_raw/ner/ner0060.wav  \n",
            "  inflating: /content/so-vits-svc/dataset_raw/ner/ner0061.wav  \n",
            "  inflating: /content/so-vits-svc/dataset_raw/ner/ner0062.wav  \n",
            "  inflating: /content/so-vits-svc/dataset_raw/ner/ner0063.wav  \n",
            "  inflating: /content/so-vits-svc/dataset_raw/ner/ner0064.wav  \n",
            "  inflating: /content/so-vits-svc/dataset_raw/ner/ner0065.wav  \n",
            "  inflating: /content/so-vits-svc/dataset_raw/ner/ner0066.wav  \n",
            "  inflating: /content/so-vits-svc/dataset_raw/ner/ner0067.wav  \n",
            "  inflating: /content/so-vits-svc/dataset_raw/ner/ner0068.wav  \n",
            "  inflating: /content/so-vits-svc/dataset_raw/ner/ner0069.wav  \n",
            "  inflating: /content/so-vits-svc/dataset_raw/ner/ner0070.wav  \n",
            "  inflating: /content/so-vits-svc/dataset_raw/ner/ner0071.wav  \n",
            "  inflating: /content/so-vits-svc/dataset_raw/ner/ner0072.wav  \n",
            "  inflating: /content/so-vits-svc/dataset_raw/ner/ner0073.wav  \n",
            "  inflating: /content/so-vits-svc/dataset_raw/ner/ner0074.wav  \n",
            "  inflating: /content/so-vits-svc/dataset_raw/ner/ner0075.wav  \n",
            "  inflating: /content/so-vits-svc/dataset_raw/ner/ner0076.wav  \n",
            "  inflating: /content/so-vits-svc/dataset_raw/ner/ner0077.wav  \n",
            "  inflating: /content/so-vits-svc/dataset_raw/ner/ner0078.wav  \n",
            "  inflating: /content/so-vits-svc/dataset_raw/ner/ner0079.wav  \n",
            "  inflating: /content/so-vits-svc/dataset_raw/ner/ner0080.wav  \n",
            "  inflating: /content/so-vits-svc/dataset_raw/ner/ner0081.wav  \n",
            "  inflating: /content/so-vits-svc/dataset_raw/ner/ner0082.wav  \n",
            "  inflating: /content/so-vits-svc/dataset_raw/ner/ner0083.wav  \n",
            "  inflating: /content/so-vits-svc/dataset_raw/ner/ner0084.wav  \n",
            "  inflating: /content/so-vits-svc/dataset_raw/ner/ner0085.wav  \n",
            "  inflating: /content/so-vits-svc/dataset_raw/ner/ner0086.wav  \n",
            "  inflating: /content/so-vits-svc/dataset_raw/ner/ner0087.wav  \n",
            "  inflating: /content/so-vits-svc/dataset_raw/ner/ner0088.wav  \n",
            "  inflating: /content/so-vits-svc/dataset_raw/ner/ner0089.wav  \n",
            "  inflating: /content/so-vits-svc/dataset_raw/ner/ner0090.wav  \n",
            "  inflating: /content/so-vits-svc/dataset_raw/ner/ner0091.wav  \n",
            "  inflating: /content/so-vits-svc/dataset_raw/ner/ner0092.wav  \n",
            "  inflating: /content/so-vits-svc/dataset_raw/ner/ner0093.wav  \n",
            "  inflating: /content/so-vits-svc/dataset_raw/ner/ner0094.wav  \n",
            "  inflating: /content/so-vits-svc/dataset_raw/ner/ner0095.wav  \n",
            "  inflating: /content/so-vits-svc/dataset_raw/ner/ner0096.wav  \n",
            "  inflating: /content/so-vits-svc/dataset_raw/ner/ner0097.wav  \n",
            "  inflating: /content/so-vits-svc/dataset_raw/ner/ner0098.wav  \n",
            "  inflating: /content/so-vits-svc/dataset_raw/ner/ner0099.wav  \n",
            "  inflating: /content/so-vits-svc/dataset_raw/ner/ner0100.wav  \n",
            "  inflating: /content/so-vits-svc/dataset_raw/ner/ner0101.wav  \n",
            "  inflating: /content/so-vits-svc/dataset_raw/ner/ner0102.wav  \n",
            "  inflating: /content/so-vits-svc/dataset_raw/ner/ner0103.wav  \n",
            "  inflating: /content/so-vits-svc/dataset_raw/ner/ner0104.wav  \n",
            "  inflating: /content/so-vits-svc/dataset_raw/ner/ner0105.wav  \n",
            "  inflating: /content/so-vits-svc/dataset_raw/ner/ner0106.wav  \n",
            "  inflating: /content/so-vits-svc/dataset_raw/ner/ner0107.wav  \n",
            "  inflating: /content/so-vits-svc/dataset_raw/ner/ner0108.wav  \n",
            "  inflating: /content/so-vits-svc/dataset_raw/ner/ner0109.wav  \n",
            "  inflating: /content/so-vits-svc/dataset_raw/ner/ner0110.wav  \n",
            "  inflating: /content/so-vits-svc/dataset_raw/ner/ner0111.wav  \n",
            "  inflating: /content/so-vits-svc/dataset_raw/ner/ner0112.wav  \n",
            "  inflating: /content/so-vits-svc/dataset_raw/ner/ner0113.wav  \n",
            "  inflating: /content/so-vits-svc/dataset_raw/ner/ner0114.wav  \n",
            "  inflating: /content/so-vits-svc/dataset_raw/ner/ner0115.wav  \n",
            "  inflating: /content/so-vits-svc/dataset_raw/ner/ner0116.wav  \n",
            "  inflating: /content/so-vits-svc/dataset_raw/ner/ner0117.wav  \n",
            "  inflating: /content/so-vits-svc/dataset_raw/ner/ner0118.wav  \n",
            "  inflating: /content/so-vits-svc/dataset_raw/ner/ner0119.wav  \n",
            "  inflating: /content/so-vits-svc/dataset_raw/ner/ner0120.wav  \n",
            "  inflating: /content/so-vits-svc/dataset_raw/ner/ner0121.wav  \n",
            "  inflating: /content/so-vits-svc/dataset_raw/ner/ner0122.wav  \n",
            "  inflating: /content/so-vits-svc/dataset_raw/ner/ner0123.wav  \n",
            "  inflating: /content/so-vits-svc/dataset_raw/ner/ner0124.wav  \n",
            "  inflating: /content/so-vits-svc/dataset_raw/ner/ner0125.wav  \n",
            "  inflating: /content/so-vits-svc/dataset_raw/ner/ner0126.wav  \n",
            "  inflating: /content/so-vits-svc/dataset_raw/ner/ner0127.wav  \n",
            "  inflating: /content/so-vits-svc/dataset_raw/ner/ner0128.wav  \n",
            "  inflating: /content/so-vits-svc/dataset_raw/ner/ner0129.wav  \n",
            "  inflating: /content/so-vits-svc/dataset_raw/ner/ner0130.wav  \n",
            "  inflating: /content/so-vits-svc/dataset_raw/ner/ner0131.wav  \n",
            "  inflating: /content/so-vits-svc/dataset_raw/ner/ner0132.wav  \n",
            "  inflating: /content/so-vits-svc/dataset_raw/ner/ner0133.wav  \n",
            "  inflating: /content/so-vits-svc/dataset_raw/ner/ner0134.wav  \n",
            "  inflating: /content/so-vits-svc/dataset_raw/ner/ner0135.wav  \n",
            "  inflating: /content/so-vits-svc/dataset_raw/ner/ner0136.wav  \n",
            "  inflating: /content/so-vits-svc/dataset_raw/ner/ner0137.wav  \n",
            "  inflating: /content/so-vits-svc/dataset_raw/ner/ner0138.wav  \n",
            "  inflating: /content/so-vits-svc/dataset_raw/ner/ner0139.wav  \n",
            "  inflating: /content/so-vits-svc/dataset_raw/ner/ner0140.wav  \n",
            "  inflating: /content/so-vits-svc/dataset_raw/ner/ner0141.wav  \n",
            "  inflating: /content/so-vits-svc/dataset_raw/ner/ner0142.wav  \n",
            "  inflating: /content/so-vits-svc/dataset_raw/ner/ner0143.wav  \n",
            "  inflating: /content/so-vits-svc/dataset_raw/ner/ner0144.wav  \n",
            "  inflating: /content/so-vits-svc/dataset_raw/ner/ner0145.wav  \n",
            "  inflating: /content/so-vits-svc/dataset_raw/ner/ner0146.wav  \n",
            "  inflating: /content/so-vits-svc/dataset_raw/ner/ner0147.wav  \n",
            "  inflating: /content/so-vits-svc/dataset_raw/ner/ner0148.wav  \n",
            "  inflating: /content/so-vits-svc/dataset_raw/ner/ner0149.wav  \n",
            "  inflating: /content/so-vits-svc/dataset_raw/ner/ner0150.wav  \n",
            "  inflating: /content/so-vits-svc/dataset_raw/ner/ner0151.wav  \n",
            "  inflating: /content/so-vits-svc/dataset_raw/ner/ner0152.wav  \n",
            "  inflating: /content/so-vits-svc/dataset_raw/ner/ner0153.wav  \n",
            "  inflating: /content/so-vits-svc/dataset_raw/ner/ner0154.wav  \n",
            "  inflating: /content/so-vits-svc/dataset_raw/ner/ner0155.wav  \n",
            "  inflating: /content/so-vits-svc/dataset_raw/ner/ner0156.wav  \n",
            "  inflating: /content/so-vits-svc/dataset_raw/ner/ner0157.wav  \n",
            "  inflating: /content/so-vits-svc/dataset_raw/ner/ner0158.wav  \n",
            "  inflating: /content/so-vits-svc/dataset_raw/ner/ner0159.wav  \n",
            "  inflating: /content/so-vits-svc/dataset_raw/ner/ner0160.wav  \n",
            "  inflating: /content/so-vits-svc/dataset_raw/ner/ner0161.wav  \n",
            "  inflating: /content/so-vits-svc/dataset_raw/ner/ner0162.wav  \n",
            "  inflating: /content/so-vits-svc/dataset_raw/ner/ner0163.wav  \n",
            "  inflating: /content/so-vits-svc/dataset_raw/ner/ner0164.wav  \n",
            "  inflating: /content/so-vits-svc/dataset_raw/ner/ner0165.wav  \n",
            "  inflating: /content/so-vits-svc/dataset_raw/ner/ner0166.wav  \n",
            "  inflating: /content/so-vits-svc/dataset_raw/ner/ner0167.wav  \n",
            "  inflating: /content/so-vits-svc/dataset_raw/ner/ner0168.wav  \n",
            "  inflating: /content/so-vits-svc/dataset_raw/ner/ner0169.wav  \n",
            "  inflating: /content/so-vits-svc/dataset_raw/ner/ner0170.wav  \n",
            "  inflating: /content/so-vits-svc/dataset_raw/ner/ner0171.wav  \n",
            "  inflating: /content/so-vits-svc/dataset_raw/ner/ner0172.wav  \n",
            "  inflating: /content/so-vits-svc/dataset_raw/ner/ner0173.wav  \n",
            "  inflating: /content/so-vits-svc/dataset_raw/ner/ner0174.wav  \n",
            "  inflating: /content/so-vits-svc/dataset_raw/ner/ner0175.wav  \n",
            "  inflating: /content/so-vits-svc/dataset_raw/ner/ner0176.wav  \n",
            "  inflating: /content/so-vits-svc/dataset_raw/ner/ner0177.wav  \n",
            "  inflating: /content/so-vits-svc/dataset_raw/ner/ner0178.wav  \n",
            "  inflating: /content/so-vits-svc/dataset_raw/ner/ner0179.wav  \n",
            "  inflating: /content/so-vits-svc/dataset_raw/ner/ner0180.wav  \n",
            "  inflating: /content/so-vits-svc/dataset_raw/ner/ner0181.wav  \n",
            "  inflating: /content/so-vits-svc/dataset_raw/ner/ner0182.wav  \n",
            "  inflating: /content/so-vits-svc/dataset_raw/ner/ner0183.wav  \n",
            "  inflating: /content/so-vits-svc/dataset_raw/ner/ner0184.wav  \n",
            "  inflating: /content/so-vits-svc/dataset_raw/ner/ner0185.wav  \n",
            "  inflating: /content/so-vits-svc/dataset_raw/ner/ner0186.wav  \n",
            "  inflating: /content/so-vits-svc/dataset_raw/ner/ner0187.wav  \n",
            "  inflating: /content/so-vits-svc/dataset_raw/ner/ner0188.wav  \n",
            "  inflating: /content/so-vits-svc/dataset_raw/ner/ner0189.wav  \n",
            "  inflating: /content/so-vits-svc/dataset_raw/ner/ner0190.wav  \n",
            "  inflating: /content/so-vits-svc/dataset_raw/ner/ner0191.wav  \n",
            "  inflating: /content/so-vits-svc/dataset_raw/ner/ner0192.wav  \n",
            "  inflating: /content/so-vits-svc/dataset_raw/ner/ner0193.wav  \n",
            "  inflating: /content/so-vits-svc/dataset_raw/ner/ner0194.wav  \n",
            "  inflating: /content/so-vits-svc/dataset_raw/ner/ner0195.wav  \n",
            "  inflating: /content/so-vits-svc/dataset_raw/ner/ner0196.wav  \n",
            "  inflating: /content/so-vits-svc/dataset_raw/ner/ner0197.wav  \n",
            "  inflating: /content/so-vits-svc/dataset_raw/ner/ner0198.wav  \n",
            "  inflating: /content/so-vits-svc/dataset_raw/ner/ner0199.wav  \n",
            "  inflating: /content/so-vits-svc/dataset_raw/ner/ner0200.wav  \n",
            "  inflating: /content/so-vits-svc/dataset_raw/ner/ner0201.wav  \n",
            "  inflating: /content/so-vits-svc/dataset_raw/ner/ner0202.wav  \n",
            "  inflating: /content/so-vits-svc/dataset_raw/ner/ner0203.wav  \n",
            "  inflating: /content/so-vits-svc/dataset_raw/ner/ner0204.wav  \n",
            "  inflating: /content/so-vits-svc/dataset_raw/ner/ner0205.wav  \n",
            "  inflating: /content/so-vits-svc/dataset_raw/ner/ner0206.wav  \n",
            "  inflating: /content/so-vits-svc/dataset_raw/ner/ner0207.wav  \n",
            "  inflating: /content/so-vits-svc/dataset_raw/ner/ner0208.wav  \n",
            "  inflating: /content/so-vits-svc/dataset_raw/ner/ner0209.wav  \n",
            "  inflating: /content/so-vits-svc/dataset_raw/ner/ner0210.wav  \n",
            "  inflating: /content/so-vits-svc/dataset_raw/ner/ner0211.wav  \n",
            "  inflating: /content/so-vits-svc/dataset_raw/ner/ner0212.wav  \n",
            "  inflating: /content/so-vits-svc/dataset_raw/ner/ner0213.wav  \n",
            "  inflating: /content/so-vits-svc/dataset_raw/ner/ner0214.wav  \n",
            "  inflating: /content/so-vits-svc/dataset_raw/ner/ner0215.wav  \n",
            "  inflating: /content/so-vits-svc/dataset_raw/ner/ner0216.wav  \n",
            "  inflating: /content/so-vits-svc/dataset_raw/ner/ner0217.wav  \n",
            "  inflating: /content/so-vits-svc/dataset_raw/ner/ner0218.wav  \n",
            "  inflating: /content/so-vits-svc/dataset_raw/ner/ner0219.wav  \n",
            "  inflating: /content/so-vits-svc/dataset_raw/ner/ner0220.wav  \n",
            "  inflating: /content/so-vits-svc/dataset_raw/ner/ner0221.wav  \n",
            "  inflating: /content/so-vits-svc/dataset_raw/ner/ner0222.wav  \n",
            "  inflating: /content/so-vits-svc/dataset_raw/ner/ner0223.wav  \n",
            "  inflating: /content/so-vits-svc/dataset_raw/ner/ner0224.wav  \n",
            "  inflating: /content/so-vits-svc/dataset_raw/ner/ner0225.wav  \n",
            "  inflating: /content/so-vits-svc/dataset_raw/ner/ner0226.wav  \n",
            "  inflating: /content/so-vits-svc/dataset_raw/ner/ner0227.wav  \n",
            "  inflating: /content/so-vits-svc/dataset_raw/ner/ner0228.wav  \n",
            "  inflating: /content/so-vits-svc/dataset_raw/ner/ner0229.wav  \n",
            "  inflating: /content/so-vits-svc/dataset_raw/ner/ner0230.wav  \n",
            "  inflating: /content/so-vits-svc/dataset_raw/ner/ner0231.wav  \n",
            "  inflating: /content/so-vits-svc/dataset_raw/ner/ner0232.wav  \n",
            "  inflating: /content/so-vits-svc/dataset_raw/ner/ner0233.wav  \n",
            "  inflating: /content/so-vits-svc/dataset_raw/ner/ner0234.wav  \n",
            "  inflating: /content/so-vits-svc/dataset_raw/ner/ner0235.wav  \n",
            "  inflating: /content/so-vits-svc/dataset_raw/ner/ner0236.wav  \n",
            "  inflating: /content/so-vits-svc/dataset_raw/ner/ner0237.wav  \n",
            "  inflating: /content/so-vits-svc/dataset_raw/ner/ner0238.wav  \n",
            "  inflating: /content/so-vits-svc/dataset_raw/ner/ner0239.wav  \n",
            "  inflating: /content/so-vits-svc/dataset_raw/ner/ner0240.wav  \n",
            "  inflating: /content/so-vits-svc/dataset_raw/ner/ner0241.wav  \n",
            "  inflating: /content/so-vits-svc/dataset_raw/ner/ner0242.wav  \n",
            "  inflating: /content/so-vits-svc/dataset_raw/ner/ner0243.wav  \n",
            "  inflating: /content/so-vits-svc/dataset_raw/ner/ner0244.wav  \n",
            "  inflating: /content/so-vits-svc/dataset_raw/ner/ner0245.wav  \n",
            "  inflating: /content/so-vits-svc/dataset_raw/ner/ner0246.wav  \n",
            "  inflating: /content/so-vits-svc/dataset_raw/ner/ner0247.wav  \n",
            "  inflating: /content/so-vits-svc/dataset_raw/ner/ner0248.wav  \n",
            "  inflating: /content/so-vits-svc/dataset_raw/ner/ner0249.wav  \n",
            "  inflating: /content/so-vits-svc/dataset_raw/ner/ner0250.wav  \n",
            "  inflating: /content/so-vits-svc/dataset_raw/ner/ner0251.wav  \n",
            "  inflating: /content/so-vits-svc/dataset_raw/ner/ner0252.wav  \n",
            "  inflating: /content/so-vits-svc/dataset_raw/ner/ner0253.wav  \n",
            "  inflating: /content/so-vits-svc/dataset_raw/ner/ner0254.wav  \n",
            "  inflating: /content/so-vits-svc/dataset_raw/ner/ner0255.wav  \n",
            "  inflating: /content/so-vits-svc/dataset_raw/ner/ner0256.wav  \n",
            "  inflating: /content/so-vits-svc/dataset_raw/ner/ner0257.wav  \n",
            "  inflating: /content/so-vits-svc/dataset_raw/ner/ner0258.wav  \n",
            "  inflating: /content/so-vits-svc/dataset_raw/ner/ner0259.wav  \n",
            "  inflating: /content/so-vits-svc/dataset_raw/ner/ner0260.wav  \n",
            "  inflating: /content/so-vits-svc/dataset_raw/ner/ner0261.wav  \n",
            "  inflating: /content/so-vits-svc/dataset_raw/ner/ner0262.wav  \n",
            "  inflating: /content/so-vits-svc/dataset_raw/ner/ner0263.wav  \n",
            "  inflating: /content/so-vits-svc/dataset_raw/ner/ner0264.wav  \n",
            "  inflating: /content/so-vits-svc/dataset_raw/ner/ner0265.wav  \n",
            "  inflating: /content/so-vits-svc/dataset_raw/ner/ner0266.wav  \n",
            "  inflating: /content/so-vits-svc/dataset_raw/ner/ner0267.wav  \n",
            "  inflating: /content/so-vits-svc/dataset_raw/ner/ner0268.wav  \n",
            "  inflating: /content/so-vits-svc/dataset_raw/ner/ner0269.wav  \n",
            "  inflating: /content/so-vits-svc/dataset_raw/ner/ner0270.wav  \n",
            "  inflating: /content/so-vits-svc/dataset_raw/ner/ner0271.wav  \n",
            "  inflating: /content/so-vits-svc/dataset_raw/ner/ner0272.wav  \n",
            "  inflating: /content/so-vits-svc/dataset_raw/ner/ner0273.wav  \n",
            "  inflating: /content/so-vits-svc/dataset_raw/ner/ner0274.wav  \n",
            "  inflating: /content/so-vits-svc/dataset_raw/ner/ner0275.wav  \n",
            "  inflating: /content/so-vits-svc/dataset_raw/ner/ner0276.wav  \n",
            "  inflating: /content/so-vits-svc/dataset_raw/ner/ner0277.wav  \n",
            "  inflating: /content/so-vits-svc/dataset_raw/ner/ner0278.wav  \n",
            "  inflating: /content/so-vits-svc/dataset_raw/ner/ner0279.wav  \n",
            "  inflating: /content/so-vits-svc/dataset_raw/ner/ner0280.wav  \n",
            "  inflating: /content/so-vits-svc/dataset_raw/ner/ner0281.wav  \n",
            "  inflating: /content/so-vits-svc/dataset_raw/ner/ner0282.wav  \n",
            "  inflating: /content/so-vits-svc/dataset_raw/ner/ner0283.wav  \n",
            "  inflating: /content/so-vits-svc/dataset_raw/ner/ner0284.wav  \n",
            "  inflating: /content/so-vits-svc/dataset_raw/ner/ner0285.wav  \n",
            "  inflating: /content/so-vits-svc/dataset_raw/ner/ner0286.wav  \n",
            "  inflating: /content/so-vits-svc/dataset_raw/ner/ner0287.wav  \n",
            "  inflating: /content/so-vits-svc/dataset_raw/ner/ner0288.wav  \n",
            "  inflating: /content/so-vits-svc/dataset_raw/ner/ner0289.wav  \n",
            "  inflating: /content/so-vits-svc/dataset_raw/ner/ner0290.wav  \n",
            "  inflating: /content/so-vits-svc/dataset_raw/ner/ner0291.wav  \n",
            "  inflating: /content/so-vits-svc/dataset_raw/ner/ner0292.wav  \n",
            "  inflating: /content/so-vits-svc/dataset_raw/ner/ner0293.wav  \n",
            "  inflating: /content/so-vits-svc/dataset_raw/ner/ner0294.wav  \n",
            "  inflating: /content/so-vits-svc/dataset_raw/ner/ner0295.wav  \n",
            "  inflating: /content/so-vits-svc/dataset_raw/ner/ner0296.wav  \n",
            "  inflating: /content/so-vits-svc/dataset_raw/ner/ner0297.wav  \n",
            "  inflating: /content/so-vits-svc/dataset_raw/ner/ner0298.wav  \n",
            "  inflating: /content/so-vits-svc/dataset_raw/ner/ner0299.wav  \n",
            "  inflating: /content/so-vits-svc/dataset_raw/ner/ner0300.wav  \n",
            "  inflating: /content/so-vits-svc/dataset_raw/ner/ner0301.wav  \n",
            "  inflating: /content/so-vits-svc/dataset_raw/ner/ner0302.wav  \n",
            "  inflating: /content/so-vits-svc/dataset_raw/ner/ner0303.wav  \n",
            "  inflating: /content/so-vits-svc/dataset_raw/ner/ner0304.wav  \n",
            "  inflating: /content/so-vits-svc/dataset_raw/ner/ner0305.wav  \n",
            "  inflating: /content/so-vits-svc/dataset_raw/ner/ner0306.wav  \n",
            "  inflating: /content/so-vits-svc/dataset_raw/ner/ner0307.wav  \n",
            "  inflating: /content/so-vits-svc/dataset_raw/ner/ner0308.wav  \n",
            "  inflating: /content/so-vits-svc/dataset_raw/ner/ner0309.wav  \n",
            "  inflating: /content/so-vits-svc/dataset_raw/ner/ner0310.wav  \n",
            "  inflating: /content/so-vits-svc/dataset_raw/ner/ner0311.wav  \n",
            "  inflating: /content/so-vits-svc/dataset_raw/ner/ner0312.wav  \n",
            "  inflating: /content/so-vits-svc/dataset_raw/ner/ner0313.wav  \n",
            "  inflating: /content/so-vits-svc/dataset_raw/ner/ner0314.wav  \n",
            "  inflating: /content/so-vits-svc/dataset_raw/ner/ner0315.wav  \n",
            "  inflating: /content/so-vits-svc/dataset_raw/ner/ner0316.wav  \n",
            "  inflating: /content/so-vits-svc/dataset_raw/ner/ner0317.wav  \n",
            "  inflating: /content/so-vits-svc/dataset_raw/ner/ner0318.wav  \n",
            "  inflating: /content/so-vits-svc/dataset_raw/ner/ner0319.wav  \n",
            "  inflating: /content/so-vits-svc/dataset_raw/ner/ner0320.wav  \n",
            "  inflating: /content/so-vits-svc/dataset_raw/ner/ner0321.wav  \n",
            "  inflating: /content/so-vits-svc/dataset_raw/ner/ner0322.wav  \n",
            "  inflating: /content/so-vits-svc/dataset_raw/ner/ner0323.wav  \n",
            "  inflating: /content/so-vits-svc/dataset_raw/ner/ner0324.wav  \n",
            "  inflating: /content/so-vits-svc/dataset_raw/ner/ner0325.wav  \n",
            "  inflating: /content/so-vits-svc/dataset_raw/ner/ner0326.wav  \n",
            "  inflating: /content/so-vits-svc/dataset_raw/ner/ner0327.wav  \n",
            "  inflating: /content/so-vits-svc/dataset_raw/ner/ner0328.wav  \n",
            "  inflating: /content/so-vits-svc/dataset_raw/ner/ner0329.wav  \n",
            "  inflating: /content/so-vits-svc/dataset_raw/ner/ner0330.wav  \n",
            "  inflating: /content/so-vits-svc/dataset_raw/ner/ner0331.wav  \n",
            "  inflating: /content/so-vits-svc/dataset_raw/ner/ner0332.wav  \n",
            "  inflating: /content/so-vits-svc/dataset_raw/ner/ner0333.wav  \n",
            "  inflating: /content/so-vits-svc/dataset_raw/ner/ner0334.wav  \n",
            "  inflating: /content/so-vits-svc/dataset_raw/ner/ner0335.wav  \n",
            "  inflating: /content/so-vits-svc/dataset_raw/ner/ner0336.wav  \n",
            "  inflating: /content/so-vits-svc/dataset_raw/ner/ner0337.wav  \n",
            "  inflating: /content/so-vits-svc/dataset_raw/ner/ner0338.wav  \n",
            "  inflating: /content/so-vits-svc/dataset_raw/ner/ner0339.wav  \n",
            "  inflating: /content/so-vits-svc/dataset_raw/ner/ner0340.wav  \n",
            "  inflating: /content/so-vits-svc/dataset_raw/ner/ner0341.wav  \n",
            "  inflating: /content/so-vits-svc/dataset_raw/ner/ner0342.wav  \n",
            "  inflating: /content/so-vits-svc/dataset_raw/ner/ner0343.wav  \n",
            "  inflating: /content/so-vits-svc/dataset_raw/ner/ner0344.wav  \n",
            "  inflating: /content/so-vits-svc/dataset_raw/ner/ner0345.wav  \n",
            "  inflating: /content/so-vits-svc/dataset_raw/ner/ner0346.wav  \n",
            "  inflating: /content/so-vits-svc/dataset_raw/ner/ner0347.wav  \n"
          ]
        }
      ]
    },
    {
      "cell_type": "code",
      "source": [
        "#@title 重采样到44100hz\n",
        "!python resample.py"
      ],
      "metadata": {
        "id": "_ThKTzYs5CfL",
        "colab": {
          "base_uri": "https://localhost:8080/"
        },
        "outputId": "391803e3-1516-463b-af2d-42bb433dbcb0"
      },
      "execution_count": 9,
      "outputs": [
        {
          "output_type": "stream",
          "name": "stdout",
          "text": [
            "python3: can't open file '/content/so-vits-svc/resample.py': [Errno 2] No such file or directory\n"
          ]
        }
      ]
    },
    {
      "cell_type": "code",
      "source": [
        "#@title 划分训练集 生成配置文件\n",
        "!python preprocess_flist_config.py"
      ],
      "metadata": {
        "id": "svITReeL5N8K",
        "colab": {
          "base_uri": "https://localhost:8080/"
        },
        "outputId": "14536956-5c40-44eb-fb69-9f9afd2caff8"
      },
      "execution_count": null,
      "outputs": [
        {
          "output_type": "stream",
          "name": "stdout",
          "text": [
            "\r  0% 0/1 [00:00<?, ?it/s]\r100% 1/1 [00:00<00:00, 4359.98it/s]\n",
            "Writing ./filelists/train.txt\n",
            "\r  0% 0/47 [00:00<?, ?it/s]\r100% 47/47 [00:00<00:00, 791695.94it/s]\n",
            "Writing ./filelists/val.txt\n",
            "\r  0% 0/2 [00:00<?, ?it/s]\r100% 2/2 [00:00<00:00, 74898.29it/s]\n",
            "Writing ./filelists/test.txt\n",
            "\r  0% 0/2 [00:00<?, ?it/s]\r100% 2/2 [00:00<00:00, 77672.30it/s]\n",
            "Writing configs/config.json\n"
          ]
        }
      ]
    },
    {
      "cell_type": "code",
      "source": [
        "!cp checkpoint_best_legacy_500.pt ../drive/MyDrive"
      ],
      "metadata": {
        "id": "W0fn2Al4V4jp"
      },
      "execution_count": 13,
      "outputs": []
    },
    {
      "cell_type": "code",
      "source": [
        "!"
      ],
      "metadata": {
        "id": "Z1mUTabOWOKz"
      },
      "execution_count": null,
      "outputs": []
    },
    {
      "cell_type": "code",
      "source": [
        "#@title 生成hubert和f0\n",
        "!python preprocess_hubert_f0.py"
      ],
      "metadata": {
        "id": "xHUXMi836DMe"
      },
      "execution_count": null,
      "outputs": []
    },
    {
      "cell_type": "code",
      "source": [
        "#@title 至此 数据集预处理制作完毕，将数据集和相关文件保存到谷歌云盘的dataset文件夹下，方便下次训练使用\n",
        "#压缩dataset文件夹\n",
        "!zip -r dataset.zip /content/so-vits-svc/dataset\n",
        "#@markdown 自定义备份到谷歌云盘的dataset文件夹下的数据集文件夹名，避免混淆\n",
        "dataset_name_drive = \"ner_preprocessed\"  #@param {type:\"string\"}\n",
        "DATASET_PATH_DRIVE = \"/content/drive/MyDrive/dataset/\" + dataset_name_drive\n",
        "!mkdir -p {DATASET_PATH_DRIVE}\n",
        "\n",
        "!cp /content/so-vits-svc/dataset.zip \"{DATASET_PATH_DRIVE}\"\n",
        "!cp configs/config.json \"{DATASET_PATH_DRIVE}\"\n",
        "!cp filelists/train.txt \"{DATASET_PATH_DRIVE}\"\n",
        "!cp filelists/val.txt \"{DATASET_PATH_DRIVE}\""
      ],
      "metadata": {
        "id": "Wo4OTmTAUXgj",
        "cellView": "form"
      },
      "execution_count": null,
      "outputs": []
    },
    {
      "cell_type": "code",
      "source": [
        "#@title 已经预处理过数据集的话，就可以跳过预处理部分 直接从云盘解压处理过的数据 以及配置文件\n",
        "#@markdown 从谷歌云盘加载预处理过的数据集，文件夹名和你备份的时候输入的一样\n",
        "back_up_name = \"kiritan_preprocessed\"  #@param {type:\"string\"}\n",
        "BACK_UP_DATASET_PATH = \"/content/drive/MyDrive/dataset/\" + back_up_name\n",
        "!unzip {BACK_UP_DATASET_PATH}/dataset.zip -d /\n",
        "!cp {BACK_UP_DATASET_PATH}/config.json /content/so-vits-svc/configs/config.json\n",
        "!cp {BACK_UP_DATASET_PATH}/val.txt filelists/val.txt\n",
        "!cp {BACK_UP_DATASET_PATH}/train.txt filelists/train.txt\n",
        "\n",
        "\n",
        "# 拷贝云盘上保存的记录点\n",
        "# !cp /content/drive/MyDrive/G_800.pth logs/48k/\n",
        "# !cp /content/drive/MyDrive/D_800.pth logs/48k/"
      ],
      "metadata": {
        "id": "P2G6v_6zblWK"
      },
      "execution_count": null,
      "outputs": []
    },
    {
      "cell_type": "markdown",
      "source": [
        "# 训练"
      ],
      "metadata": {
        "id": "ENoH-pShel7w"
      }
    },
    {
      "cell_type": "code",
      "source": [
        "#@title  选择是否将训练后的模型保存到谷歌云盘 和 是否使用预模型\n",
        "\n",
        "#@markdown **将训练后的模型文件保存到谷歌云盘，勾选后，恢复训练时也需要勾选并执行**\n",
        "Save_to_drive = True #@param {type:\"boolean\"}\n",
        "if Save_to_drive:\n",
        "  !rm -rf /content/so-vits-svc/logs/44k\n",
        "  !mkdir -p /content/drive/MyDrive/44k\n",
        "  !ln -s /content/drive/MyDrive/44k /content/so-vits-svc/logs/44k\n",
        "\n",
        "#@markdown **首次训练下载预模型 之后继续训练则使用自己保存的记录点，无需再下载**\n",
        "\n",
        "#@markdown **使用预模型，下面打钩自动下载并启用**\n",
        "pre_pth = True #@param {type:\"boolean\"}\n",
        "if pre_pth:\n",
        "  #!wget -P logs/44k/ https://huggingface.co/innnky/sovits_pretrained/resolve/main/sovits4/G_0.pth\n",
        "  #!wget -P logs/44k/ https://huggingface.co/innnky/sovits_pretrained/resolve/main/sovits4/D_0.pth\n",
        "\n",
        "  !wget -P logs/44k/ https://huggingface.co/datasets/seq2193/sovits_pretrained/resolve/main/sovits4.0-v2/G_0.pth\n",
        "  !wget -P logs/44k/ https://huggingface.co/datasets/seq2193/sovits_pretrained/resolve/main/sovits4.0-v2/D_0.pth\n"
      ],
      "metadata": {
        "id": "l8J2ubh9KV5J"
      },
      "execution_count": null,
      "outputs": []
    },
    {
      "cell_type": "code",
      "source": [
        "#@title  开始训练\n",
        "\n",
        "#@markdown **开始训练**\n",
        "\n",
        "#@markdown **启用tensorboard可视化数据**\n",
        "tensorboard_on = True #@param {type:\"boolean\"}\n",
        "if tensorboard_on:\n",
        "  %load_ext tensorboard\n",
        "  %tensorboard --logdir logs/44k\n",
        "\n",
        "!python train.py -c configs/config.json -m 44k\n"
      ],
      "metadata": {
        "id": "-hEFFTCfZf57"
      },
      "execution_count": null,
      "outputs": []
    },
    {
      "cell_type": "code",
      "source": [
        "#@title 聚类音色泄漏控制 (选用)\n",
        "\n",
        "#@markdown # 聚类音色泄漏控制 Train cluster model (Optional)\n",
        "\n",
        "#@markdown #### 詳情參見 [README.md#cluster-based-timbre-leakage-control](https://github.com/svc-develop-team/so-vits-svc#cluster-based-timbre-leakage-control)\n",
        "\n",
        "#@markdown 执行python cluster/train_cluster.py ，模型的输出会在 logs/44k/kmeans_10000.pt\n",
        "\n",
        "!python cluster/train_cluster.py"
      ],
      "metadata": {
        "id": "nVJkDOVFassu"
      },
      "execution_count": null,
      "outputs": []
    },
    {
      "cell_type": "code",
      "source": [
        "#@title 手动将训练后的模型文件备份到谷歌云盘\n",
        "#@markdown 需要自己查看/content/so-vits-svc/logs/44k/文件夹下模型的文件名，手动修改下方命令末尾的文件名\n",
        "!mv /content/so-vits-svc/logs/44k/G_1000.pth /content/drive/MyDrive\n",
        "!mv /content/so-vits-svc/logs/44k/D_1000.pth /content/drive/MyDrive"
      ],
      "metadata": {
        "id": "KiNCWprSPlKH"
      },
      "execution_count": null,
      "outputs": []
    },
    {
      "cell_type": "markdown",
      "source": [
        "## 加载歌手模型"
      ],
      "metadata": {
        "id": "gYZr24dsv4bz"
      }
    },
    {
      "cell_type": "code",
      "source": [
        "#@title 从huggingface下载模型\n",
        "#@markdown **注意：4.0与4.0-v2模型完全不通用**\n",
        "pth_link=\"\" #@param{type:\"string\"}\n",
        "config_link=\"\" #@param{type:\"string\"}\n",
        "cluster_model_path=\"\" #@param{type:\"string\"}\n",
        "!wget -P /content/so-vits-svc/logs/44k {pth_link}\n",
        "!wget -O /content/so-vits-svc/configs/config.json  {config_link}\n",
        "!wget -P /content/so-vits-svc/logs/44k {cluster_model_path}"
      ],
      "metadata": {
        "id": "aQkDUD2gv7ii"
      },
      "execution_count": null,
      "outputs": []
    },
    {
      "cell_type": "markdown",
      "source": [
        "# 推理"
      ],
      "metadata": {
        "id": "oCnbX-OT897k"
      }
    },
    {
      "cell_type": "code",
      "source": [
        "#@markdown 下载示例音频合成 風になる\n",
        "!gdown --id 1d-npX0KOYW5AE2fh0z1mkX3nFYvyrRii -O /content/so-vits-svc/raw/風になる.wav"
      ],
      "metadata": {
        "id": "DAFy43VPkTyM"
      },
      "execution_count": null,
      "outputs": []
    },
    {
      "cell_type": "code",
      "source": [
        "#@title 上传.wav音频文件\n",
        "import os\n",
        "from google.colab import files\n",
        "\n",
        "save_dir = \"/content/so-vits-svc/raw\"\n",
        "if not os.path.exists(save_dir):\n",
        "    os.makedirs(save_dir)\n",
        "\n",
        "uploaded = files.upload()\n",
        "file_name = list(uploaded.keys())[0]\n",
        "file_path = os.path.join(save_dir, file_name)\n",
        "with open(file_path, \"wb\") as f:\n",
        "    f.write(uploaded[file_name])\n",
        "print(f\"File saved at: {file_path}\")\n"
      ],
      "metadata": {
        "id": "RLn0mxtCegv1"
      },
      "execution_count": null,
      "outputs": []
    },
    {
      "cell_type": "code",
      "source": [
        "#@title 合成音频（推理）\n",
        "#@markdown 需要将音频上传到so-vits-svc/raw 文件夹下, 然后设置模型路径、配置文件路径、合成的音频名称\n",
        "\n",
        "!python inference_main.py -m \"logs/44k/G_1600.pth\" -c \"configs/config.json\" -n \"君の知らない物語-src.wav\" -s kiritan\n"
      ],
      "metadata": {
        "id": "dYnKuKTIj3z1"
      },
      "execution_count": null,
      "outputs": []
    },
    {
      "cell_type": "code",
      "source": [
        "#@title 合成音频（推理）修改\n",
        "#@markdown 需要将音频上传到so-vits-svc/raw 文件夹下, 然后设置模型路径、配置文件路径、合成的音频名称\n",
        "model_path = \"logs/44k/G_2000.pth\" #@param {type:\"string\"}\n",
        "config_path = \"configs/config.json\" #@param {type:\"string\"}\n",
        "clean_names = \"\\u98A8\\u306B\\u306A\\u308B.wav\" #@param {type:\"string\"}\n",
        "spk_list = \"kumi\" #@param {type:\"string\"}\n",
        "trans = \"0\"  #@param {type:\"string\"}\n",
        "#@markdown **聚类音色泄漏控制**\n",
        "\n",
        "#@markdown 0为完全不使用聚类，1为只使用聚类，通常设置0.5即可\n",
        "cluster_infer_ratio = \"0\"  #@param {type:\"string\"}\n",
        "slice_db = \"-40\"  #@param {type:\"string\"}\n",
        "wav_format = \"flac\"  #@param {type:\"string\"}\n",
        "wav_output = \"/content/so-vits-svc/results/\" + clean_names + \"_\" + trans + \"key\" + \"_\" + spk_list + \".\" + wav_format\n",
        "\n",
        "!python inference_main.py -m {model_path} -c {config_path} -n \"{clean_names}\" -t {trans} -s {spk_list}  -cr {cluster_infer_ratio} -sd {slice_db} -wf {wav_format}\n",
        "\n",
        "#@markdown 如果您不想從此處下載，請取消選中此選項。\n",
        "download_after_inference = True  #@param {type:\"boolean\"}\n",
        "\n",
        "if download_after_inference:\n",
        "  from google.colab import files\n",
        "  files.download(wav_output)"
      ],
      "metadata": {
        "id": "UIsP6nm7fXrs"
      },
      "execution_count": null,
      "outputs": []
    }
  ]
}