{
  "nbformat": 4,
  "nbformat_minor": 0,
  "metadata": {
    "colab": {
      "provenance": [],
      "include_colab_link": true
    },
    "kernelspec": {
      "name": "python3",
      "display_name": "Python 3"
    },
    "language_info": {
      "name": "python"
    },
    "accelerator": "GPU",
    "gpuClass": "standard"
  },
  "cells": [
    {
      "cell_type": "markdown",
      "metadata": {
        "id": "view-in-github",
        "colab_type": "text"
      },
      "source": [
        "<a href=\"https://colab.research.google.com/github/lwztime/vits/blob/main/sovits4_0_v2%E4%B8%80%E9%94%AE%E8%AE%AD%E7%BB%83_%E6%8E%A8%E7%90%86%E8%84%9A%E6%9C%AC.ipynb\" target=\"_parent\"><img src=\"https://colab.research.google.com/assets/colab-badge.svg\" alt=\"Open In Colab\"/></a>"
      ]
    },
    {
      "cell_type": "markdown",
      "source": [
        "初始项目：https://github.com/innnky/so-vits-svc\n",
        "\n",
        "修改日期：2023年3月13日\n",
        "\n",
        "原始Colab 链接<a target=\"_blank\" href=\"https://colab.research.google.com/drive/19fxpo-ZoL_ShEUeZIZi6Di-YioWrEyhR\">\n",
        "  <img src=\"https://colab.research.google.com/assets/colab-badge.svg\" alt=\"Open In Colab\"/>\n",
        "</a>"
      ],
      "metadata": {
        "id": "lTrPmOt6ZROg"
      }
    },
    {
      "cell_type": "code",
      "source": [
        "# 查看显卡\n",
        "!nvidia-smi\n",
        "!pwd"
      ],
      "metadata": {
        "colab": {
          "base_uri": "https://localhost:8080/"
        },
        "id": "0gQcIZ8RsOkn",
        "outputId": "bfe07f8e-62ae-43be-fa29-8fcf24dd8601"
      },
      "execution_count": 1,
      "outputs": [
        {
          "output_type": "stream",
          "name": "stdout",
          "text": [
            "Mon Jun 30 04:47:00 2025       \n",
            "+-----------------------------------------------------------------------------------------+\n",
            "| NVIDIA-SMI 550.54.15              Driver Version: 550.54.15      CUDA Version: 12.4     |\n",
            "|-----------------------------------------+------------------------+----------------------+\n",
            "| GPU  Name                 Persistence-M | Bus-Id          Disp.A | Volatile Uncorr. ECC |\n",
            "| Fan  Temp   Perf          Pwr:Usage/Cap |           Memory-Usage | GPU-Util  Compute M. |\n",
            "|                                         |                        |               MIG M. |\n",
            "|=========================================+========================+======================|\n",
            "|   0  Tesla T4                       Off |   00000000:00:04.0 Off |                    0 |\n",
            "| N/A   51C    P8             11W /   70W |       0MiB /  15360MiB |      0%      Default |\n",
            "|                                         |                        |                  N/A |\n",
            "+-----------------------------------------+------------------------+----------------------+\n",
            "                                                                                         \n",
            "+-----------------------------------------------------------------------------------------+\n",
            "| Processes:                                                                              |\n",
            "|  GPU   GI   CI        PID   Type   Process name                              GPU Memory |\n",
            "|        ID   ID                                                               Usage      |\n",
            "|=========================================================================================|\n",
            "|  No running processes found                                                             |\n",
            "+-----------------------------------------------------------------------------------------+\n",
            "/content\n"
          ]
        }
      ]
    },
    {
      "cell_type": "markdown",
      "source": [],
      "metadata": {
        "id": "CJDlNiqLKcTq"
      }
    },
    {
      "cell_type": "code",
      "execution_count": 2,
      "metadata": {
        "id": "LS0OPRkL4Pme",
        "outputId": "f13fd328-e591-48d9-91e9-82b78e0a3cd2",
        "colab": {
          "base_uri": "https://localhost:8080/"
        }
      },
      "outputs": [
        {
          "output_type": "stream",
          "name": "stdout",
          "text": [
            "Cloning into 'so-vits-svc'...\n",
            "remote: Enumerating objects: 4650, done.\u001b[K\n",
            "remote: Counting objects: 100% (42/42), done.\u001b[K\n",
            "remote: Compressing objects: 100% (28/28), done.\u001b[K\n",
            "remote: Total 4650 (delta 34), reused 14 (delta 14), pack-reused 4608 (from 2)\u001b[K\n",
            "Receiving objects: 100% (4650/4650), 20.65 MiB | 15.11 MiB/s, done.\n",
            "Resolving deltas: 100% (2673/2673), done.\n"
          ]
        }
      ],
      "source": [
        "#@title 克隆的github仓库\n",
        "!git clone https://github.com/voicepaw/so-vits-svc-fork.git so-vits-svc\n"
      ]
    },
    {
      "cell_type": "code",
      "source": [
        "#@title 安装依赖\n",
        "%cd /content/so-vits-svc\n",
        "!pip install --upgrade pip setuptools numpy numba\n",
        "#!pip install numpy==1.23.5\n",
        "!pip install pyworld praat-parselmouth fairseq"
      ],
      "metadata": {
        "id": "zXBLkXxL4T1O",
        "outputId": "9ac06ce7-7b45-4a73-abdc-ab801ceec3f2",
        "colab": {
          "base_uri": "https://localhost:8080/"
        }
      },
      "execution_count": 3,
      "outputs": [
        {
          "output_type": "stream",
          "name": "stdout",
          "text": [
            "/content/so-vits-svc\n",
            "Requirement already satisfied: pip in /usr/local/lib/python3.11/dist-packages (25.1.1)\n",
            "Requirement already satisfied: setuptools in /usr/local/lib/python3.11/dist-packages (80.9.0)\n",
            "Requirement already satisfied: numpy in /usr/local/lib/python3.11/dist-packages (2.2.6)\n",
            "Collecting numpy\n",
            "  Using cached numpy-2.3.1-cp311-cp311-manylinux_2_28_x86_64.whl.metadata (62 kB)\n",
            "Requirement already satisfied: numba in /usr/local/lib/python3.11/dist-packages (0.61.2)\n",
            "Requirement already satisfied: llvmlite<0.45,>=0.44.0dev0 in /usr/local/lib/python3.11/dist-packages (from numba) (0.44.0)\n",
            "Collecting pyworld\n",
            "  Using cached pyworld-0.3.5.tar.gz (261 kB)\n",
            "  Installing build dependencies ... \u001b[?25l\u001b[?25hdone\n",
            "  Getting requirements to build wheel ... \u001b[?25l\u001b[?25hdone\n",
            "  Preparing metadata (pyproject.toml) ... \u001b[?25l\u001b[?25hdone\n",
            "Collecting praat-parselmouth\n",
            "  Using cached praat_parselmouth-0.4.6-cp311-cp311-manylinux_2_17_x86_64.manylinux2014_x86_64.whl.metadata (2.9 kB)\n",
            "Collecting fairseq\n",
            "  Using cached fairseq-0.12.2.tar.gz (9.6 MB)\n",
            "  Installing build dependencies ... \u001b[?25l\u001b[?25hdone\n",
            "  Getting requirements to build wheel ... \u001b[?25l\u001b[?25hdone\n",
            "  Installing backend dependencies ... \u001b[?25l\u001b[?25hdone\n",
            "  Preparing metadata (pyproject.toml) ... \u001b[?25l\u001b[?25hdone\n",
            "Requirement already satisfied: numpy in /usr/local/lib/python3.11/dist-packages (from pyworld) (2.2.6)\n",
            "Requirement already satisfied: cffi in /usr/local/lib/python3.11/dist-packages (from fairseq) (1.17.1)\n",
            "Requirement already satisfied: cython in /usr/local/lib/python3.11/dist-packages (from fairseq) (3.0.12)\n",
            "Collecting hydra-core<1.1,>=1.0.7 (from fairseq)\n",
            "  Downloading hydra_core-1.0.7-py3-none-any.whl.metadata (3.7 kB)\n",
            "Collecting omegaconf<2.1 (from fairseq)\n",
            "  Downloading omegaconf-2.0.6-py3-none-any.whl.metadata (3.0 kB)\n",
            "\u001b[33mWARNING: Ignoring version 2.0.6 of omegaconf since it has invalid metadata:\n",
            "Requested omegaconf<2.1 from https://files.pythonhosted.org/packages/d0/eb/9d63ce09dd8aa85767c65668d5414958ea29648a0eec80a4a7d311ec2684/omegaconf-2.0.6-py3-none-any.whl (from fairseq) has invalid metadata: .* suffix can only be used with `==` or `!=` operators\n",
            "    PyYAML (>=5.1.*)\n",
            "            ~~~~~~^\n",
            "Please use pip<24.1 if you need to use this version.\u001b[0m\u001b[33m\n",
            "\u001b[0m  Downloading omegaconf-2.0.5-py3-none-any.whl.metadata (3.0 kB)\n",
            "\u001b[33mWARNING: Ignoring version 2.0.5 of omegaconf since it has invalid metadata:\n",
            "Requested omegaconf<2.1 from https://files.pythonhosted.org/packages/e5/f6/043b6d255dd6fbf2025110cea35b87f4c5100a181681d8eab496269f0d5b/omegaconf-2.0.5-py3-none-any.whl (from fairseq) has invalid metadata: .* suffix can only be used with `==` or `!=` operators\n",
            "    PyYAML (>=5.1.*)\n",
            "            ~~~~~~^\n",
            "Please use pip<24.1 if you need to use this version.\u001b[0m\u001b[33m\n",
            "\u001b[0m  Downloading omegaconf-2.0.4-py3-none-any.whl.metadata (3.0 kB)\n",
            "\u001b[33mWARNING: Ignoring version 2.0.4 of omegaconf since it has invalid metadata:\n",
            "Requested omegaconf<2.1 from https://files.pythonhosted.org/packages/92/b1/4f3023143436f12c98bab53f0b3db617bd18a7d223627d5030e13a7b4fc2/omegaconf-2.0.4-py3-none-any.whl (from fairseq) has invalid metadata: .* suffix can only be used with `==` or `!=` operators\n",
            "    PyYAML (>=5.1.*)\n",
            "            ~~~~~~^\n",
            "Please use pip<24.1 if you need to use this version.\u001b[0m\u001b[33m\n",
            "\u001b[0m  Downloading omegaconf-2.0.3-py3-none-any.whl.metadata (3.0 kB)\n",
            "\u001b[33mWARNING: Ignoring version 2.0.3 of omegaconf since it has invalid metadata:\n",
            "Requested omegaconf<2.1 from https://files.pythonhosted.org/packages/29/08/a88210c2c1aa0a3f65f05d8a6c98939ccb84b6fb982aa6567dec4e6773f9/omegaconf-2.0.3-py3-none-any.whl (from fairseq) has invalid metadata: .* suffix can only be used with `==` or `!=` operators\n",
            "    PyYAML (>=5.1.*)\n",
            "            ~~~~~~^\n",
            "Please use pip<24.1 if you need to use this version.\u001b[0m\u001b[33m\n",
            "\u001b[0m  Downloading omegaconf-2.0.2-py3-none-any.whl.metadata (3.0 kB)\n",
            "\u001b[33mWARNING: Ignoring version 2.0.2 of omegaconf since it has invalid metadata:\n",
            "Requested omegaconf<2.1 from https://files.pythonhosted.org/packages/72/fe/f8d162aa059fb4f327fd75144dd69aa7e8acbb6d8d37013e4638c8490e0b/omegaconf-2.0.2-py3-none-any.whl (from fairseq) has invalid metadata: .* suffix can only be used with `==` or `!=` operators\n",
            "    PyYAML (>=5.1.*)\n",
            "            ~~~~~~^\n",
            "Please use pip<24.1 if you need to use this version.\u001b[0m\u001b[33m\n",
            "\u001b[0m  Downloading omegaconf-2.0.1-py3-none-any.whl.metadata (3.0 kB)\n",
            "\u001b[33mWARNING: Ignoring version 2.0.1 of omegaconf since it has invalid metadata:\n",
            "Requested omegaconf<2.1 from https://files.pythonhosted.org/packages/86/ec/605805e60abdb025b06664d107335031bb8ebdc52e0a90bdbad6a7130279/omegaconf-2.0.1-py3-none-any.whl (from fairseq) has invalid metadata: .* suffix can only be used with `==` or `!=` operators\n",
            "    PyYAML (>=5.1.*)\n",
            "            ~~~~~~^\n",
            "Please use pip<24.1 if you need to use this version.\u001b[0m\u001b[33m\n",
            "\u001b[0m  Downloading omegaconf-2.0.0-py3-none-any.whl.metadata (3.5 kB)\n",
            "Requirement already satisfied: regex in /usr/local/lib/python3.11/dist-packages (from fairseq) (2024.11.6)\n",
            "Collecting sacrebleu>=1.4.12 (from fairseq)\n",
            "  Downloading sacrebleu-2.5.1-py3-none-any.whl.metadata (51 kB)\n",
            "Requirement already satisfied: torch in /usr/local/lib/python3.11/dist-packages (from fairseq) (2.6.0+cu124)\n",
            "Requirement already satisfied: tqdm in /usr/local/lib/python3.11/dist-packages (from fairseq) (4.67.1)\n",
            "Collecting bitarray (from fairseq)\n",
            "  Downloading bitarray-3.4.3-cp311-cp311-manylinux_2_17_x86_64.manylinux2014_x86_64.whl.metadata (33 kB)\n",
            "Requirement already satisfied: torchaudio>=0.8.0 in /usr/local/lib/python3.11/dist-packages (from fairseq) (2.6.0+cu124)\n",
            "Collecting omegaconf<2.1 (from fairseq)\n",
            "  Using cached omegaconf-2.0.6-py3-none-any.whl.metadata (3.0 kB)\n",
            "\u001b[33mWARNING: Ignoring version 2.0.6 of omegaconf since it has invalid metadata:\n",
            "Requested omegaconf<2.1 from https://files.pythonhosted.org/packages/d0/eb/9d63ce09dd8aa85767c65668d5414958ea29648a0eec80a4a7d311ec2684/omegaconf-2.0.6-py3-none-any.whl (from fairseq) has invalid metadata: .* suffix can only be used with `==` or `!=` operators\n",
            "    PyYAML (>=5.1.*)\n",
            "            ~~~~~~^\n",
            "Please use pip<24.1 if you need to use this version.\u001b[0m\u001b[33m\n",
            "\u001b[0m  Using cached omegaconf-2.0.5-py3-none-any.whl.metadata (3.0 kB)\n",
            "\u001b[33mWARNING: Ignoring version 2.0.5 of omegaconf since it has invalid metadata:\n",
            "Requested omegaconf<2.1 from https://files.pythonhosted.org/packages/e5/f6/043b6d255dd6fbf2025110cea35b87f4c5100a181681d8eab496269f0d5b/omegaconf-2.0.5-py3-none-any.whl (from fairseq) has invalid metadata: .* suffix can only be used with `==` or `!=` operators\n",
            "    PyYAML (>=5.1.*)\n",
            "            ~~~~~~^\n",
            "Please use pip<24.1 if you need to use this version.\u001b[0m\u001b[33m\n",
            "\u001b[0mINFO: pip is looking at multiple versions of hydra-core to determine which version is compatible with other requirements. This could take a while.\n",
            "Collecting fairseq\n",
            "  Downloading fairseq-0.12.1.tar.gz (9.6 MB)\n",
            "\u001b[2K     \u001b[90m━━━━━━━━━━━━━━━━━━━━━━━━━━━━━━━━━━━━━━━━\u001b[0m \u001b[32m9.6/9.6 MB\u001b[0m \u001b[31m139.2 MB/s\u001b[0m eta \u001b[36m0:00:00\u001b[0m\n",
            "\u001b[?25h  Installing build dependencies ... \u001b[?25l\u001b[?25hdone\n",
            "  \u001b[1;31merror\u001b[0m: \u001b[1msubprocess-exited-with-error\u001b[0m\n",
            "  \n",
            "  \u001b[31m×\u001b[0m \u001b[32mGetting requirements to build wheel\u001b[0m did not run successfully.\n",
            "  \u001b[31m│\u001b[0m exit code: \u001b[1;36m1\u001b[0m\n",
            "  \u001b[31m╰─>\u001b[0m See above for output.\n",
            "  \n",
            "  \u001b[1;35mnote\u001b[0m: This error originates from a subprocess, and is likely not a problem with pip.\n",
            "  Getting requirements to build wheel ... \u001b[?25l\u001b[?25herror\n",
            "\u001b[1;31merror\u001b[0m: \u001b[1msubprocess-exited-with-error\u001b[0m\n",
            "\n",
            "\u001b[31m×\u001b[0m \u001b[32mGetting requirements to build wheel\u001b[0m did not run successfully.\n",
            "\u001b[31m│\u001b[0m exit code: \u001b[1;36m1\u001b[0m\n",
            "\u001b[31m╰─>\u001b[0m See above for output.\n",
            "\n",
            "\u001b[1;35mnote\u001b[0m: This error originates from a subprocess, and is likely not a problem with pip.\n"
          ]
        }
      ]
    },
    {
      "cell_type": "code",
      "source": [
        "#@title 下载必要模型文件\n",
        "# 源仓库地址：[contentvec](https://github.com/auspicious3000/contentvec)\n",
        "# 模型原下载链接：[checkpoint_best_legacy_500.pt](https://ibm.box.com/s/z1wgl1stco8ffooyatzdwsqn2psd9lrr)\n",
        "# 由于源网盘无法提供http直链，根据mit协议，对模型进行二次分发，提供下载直链\n",
        "#!wget -P hubert/ https://huggingface.co/innnky/contentvec/resolve/main/checkpoint_best_legacy_500.pt\n",
        "!wget https://public.boxcloud.com/d/1/b1!-CljxmgFlL8ZqDUOIqHMWWCIIkcrqxmetxgjOIvuPNvsxL1NkbEHw7t2I9lzPqIekxJluxxFMjpOYFr1GblQeOfnRp2hopRszoHJahLbZ89TZP2UJm_fPXA6MYbWa0xDEtpdscc2YO_3JG1zxN-D1z9j_MurFXcQJokrCZLHK2Squ9Rtx-hzYHME-KelU7l91ty21liskV7yeygp3Lb8izwHoYAeJmwEK8nfxBUYiJpm28EnIVbQ5JHE7keqAkDYluiVPfmUCQvEqAksXiLG34nlur1CE7l1pacBVYvemQ90llysDdeUCcudB3rt0VsRJB__8KxGdQH0rdOD312gogFzqoWaStJZWHTx4HBR5Dt5P7g0ZX-TEJBi77DBtld9nna5qu9FkSMGLK-4ZUDrWoGb6UiSO4FKAodD58tYnS1bGx3OpOs7245_MumRhPDEJItFprm0jatWFQQ0JEjCjWpJbtZcQSMhQ-x5GJxO7D3G0MFp8BGafwD_Py6MHIjA-j7OabnqOJHT2ozoFM63XOMvrTvTSC3usFH7GcPEgphGlA6N7nd-VbvgyXS_k6a3VEKrgznVm6fibFIyWiVjdiKvh1uNKzwvFnE6eAnuCVeqs-62hpogZeH1C_93JlFi2lY3eyKdMGCjZ1TIVEakIwVcbpIgVF4JixS6skS7UZmO8VwsQFtaptSYpIdff6w6xfA9790uESvSMIl1vc3S70PqOAp-iednRvE_fqpcehSSrKZ1SDkFVFP5y4PGTfmJjmrY87UlrGQUOYSITSQwcV8z1v5CsJ8to5LkqEIz8hukhhP76ZHBwcWykvrvBal3olisJy681WeUN0F8Kt5RGoQCH_LwGMsowhcnfGX8S7PitIOgK-9q8XiHOy4Ok43eXY30tqrkuPrsUqCHLMaT1LAnWjNKX3Bc9Q5rWLmZH7PMa--eC2jVZFnTzke0u6kEqzC0qAvZbVV2M1-CU3lWwProddin7B88U81p01mcXw0MS77F_LnjRYay9tt-_kxtE76kQJmSGevcRRYPwlmkRti-oO_UqqajasGrQRzTigvCC8c7NxVWV9HL__M7W8kseYk9oKUtUr_CEZMij3QOySx8TjoWsY6nhU_H3HZnCeVaMVmKpG-FPxwcU0SA53alVuz1nWpIStkWGYfNxaTgrMTUbPDLhaphQCXTGWa0KqA_EhR5G2gf5a7V64M5z_pzDVJ7XZvL28-EuLV2Rihav6sGvAq75Kek2QRyamh4637x5TJzNlNjdfJvyBQwkAeLkp-qSKVDSIqJij36M7igTJ0JYyDjGL3xrJYd8rU7NPNl8aHZHlSBL54gNCyYqllGXIsqwLQ8wq4RbguGExWb_QP90K8GHBrJtBBfwUmxrTRcVZerGLYFGxZklPACWF-i9uC8v4MLS-XRqgDacnV6lAhi8V423rs8JJo./download\n"
      ],
      "metadata": {
        "id": "pCqf3W0d6ify",
        "outputId": "5e820232-4ae0-4133-f2c8-5898bab5a9a7",
        "colab": {
          "base_uri": "https://localhost:8080/"
        }
      },
      "execution_count": 8,
      "outputs": [
        {
          "output_type": "stream",
          "name": "stdout",
          "text": [
            "--2025-06-30 04:52:32--  https://public.boxcloud.com/d/1/b1!-CljxmgFlL8ZqDUOIqHMWWCIIkcrqxmetxgjOIvuPNvsxL1NkbEHw7t2I9lzPqIekxJluxxFMjpOYFr1GblQeOfnRp2hopRszoHJahLbZ89TZP2UJm_fPXA6MYbWa0xDEtpdscc2YO_3JG1zxN-D1z9j_MurFXcQJokrCZLHK2Squ9Rtx-hzYHME-KelU7l91ty21liskV7yeygp3Lb8izwHoYAeJmwEK8nfxBUYiJpm28EnIVbQ5JHE7keqAkDYluiVPfmUCQvEqAksXiLG34nlur1CE7l1pacBVYvemQ90llysDdeUCcudB3rt0VsRJB__8KxGdQH0rdOD312gogFzqoWaStJZWHTx4HBR5Dt5P7g0ZX-TEJBi77DBtld9nna5qu9FkSMGLK-4ZUDrWoGb6UiSO4FKAodD58tYnS1bGx3OpOs7245_MumRhPDEJItFprm0jatWFQQ0JEjCjWpJbtZcQSMhQ-x5GJxO7D3G0MFp8BGafwD_Py6MHIjA-j7OabnqOJHT2ozoFM63XOMvrTvTSC3usFH7GcPEgphGlA6N7nd-VbvgyXS_k6a3VEKrgznVm6fibFIyWiVjdiKvh1uNKzwvFnE6eAnuCVeqs-62hpogZeH1C_93JlFi2lY3eyKdMGCjZ1TIVEakIwVcbpIgVF4JixS6skS7UZmO8VwsQFtaptSYpIdff6w6xfA9790uESvSMIl1vc3S70PqOAp-iednRvE_fqpcehSSrKZ1SDkFVFP5y4PGTfmJjmrY87UlrGQUOYSITSQwcV8z1v5CsJ8to5LkqEIz8hukhhP76ZHBwcWykvrvBal3olisJy681WeUN0F8Kt5RGoQCH_LwGMsowhcnfGX8S7PitIOgK-9q8XiHOy4Ok43eXY30tqrkuPrsUqCHLMaT1LAnWjNKX3Bc9Q5rWLmZH7PMa--eC2jVZFnTzke0u6kEqzC0qAvZbVV2M1-CU3lWwProddin7B88U81p01mcXw0MS77F_LnjRYay9tt-_kxtE76kQJmSGevcRRYPwlmkRti-oO_UqqajasGrQRzTigvCC8c7NxVWV9HL__M7W8kseYk9oKUtUr_CEZMij3QOySx8TjoWsY6nhU_H3HZnCeVaMVmKpG-FPxwcU0SA53alVuz1nWpIStkWGYfNxaTgrMTUbPDLhaphQCXTGWa0KqA_EhR5G2gf5a7V64M5z_pzDVJ7XZvL28-EuLV2Rihav6sGvAq75Kek2QRyamh4637x5TJzNlNjdfJvyBQwkAeLkp-qSKVDSIqJij36M7igTJ0JYyDjGL3xrJYd8rU7NPNl8aHZHlSBL54gNCyYqllGXIsqwLQ8wq4RbguGExWb_QP90K8GHBrJtBBfwUmxrTRcVZerGLYFGxZklPACWF-i9uC8v4MLS-XRqgDacnV6lAhi8V423rs8JJo./download\n",
            "Resolving public.boxcloud.com (public.boxcloud.com)... 74.112.186.165, 2620:117:bff0:69::\n",
            "Connecting to public.boxcloud.com (public.boxcloud.com)|74.112.186.165|:443... connected.\n",
            "HTTP request sent, awaiting response... 200 OK\n",
            "Length: 1330114945 (1.2G) [application/octet-stream]\n",
            "Saving to: ‘download’\n",
            "\n",
            "download            100%[===================>]   1.24G  17.3MB/s    in 76s     \n",
            "\n",
            "2025-06-30 04:53:49 (16.6 MB/s) - ‘download’ saved [1330114945/1330114945]\n",
            "\n"
          ]
        }
      ]
    },
    {
      "cell_type": "code",
      "source": [
        "!pwd"
      ],
      "metadata": {
        "id": "4Ga125rVML6E",
        "outputId": "6c8df1a2-df43-4f6f-ae16-b86cd736507e",
        "colab": {
          "base_uri": "https://localhost:8080/"
        }
      },
      "execution_count": 9,
      "outputs": [
        {
          "output_type": "stream",
          "name": "stdout",
          "text": [
            "/content/so-vits-svc\n"
          ]
        }
      ]
    },
    {
      "cell_type": "markdown",
      "source": [
        "# 数据集预处理"
      ],
      "metadata": {
        "id": "k1qadJBFehMo"
      }
    },
    {
      "cell_type": "markdown",
      "source": [],
      "metadata": {
        "id": "jW-Lj2XlL70Y"
      }
    },
    {
      "cell_type": "code",
      "source": [
        "#@title 加载Google云端硬盘\n",
        "#@markdown 加载Google云端硬盘\n",
        "from google.colab import drive\n",
        "drive.mount('/content/drive')"
      ],
      "metadata": {
        "id": "wmUkpUmfn_Hs"
      },
      "execution_count": null,
      "outputs": []
    },
    {
      "cell_type": "markdown",
      "source": [
        "该处理脚本可以一次性预处理多个说话人，并且生成多说话人filelists以及对应的配置文件\n",
        "\n",
        "只需要将你的数据集按照以下文件结构放到dataset_raw目录下\n",
        "\n",
        "\n",
        "```\n",
        "dataset_raw\n",
        "├───speaker0\n",
        "│   ├───xxx1-xxx1.wav\n",
        "│   ├───...\n",
        "│   └───Lxx-0xx8.wav\n",
        "└───speaker1\n",
        "    ├───xx2-0xxx2.wav\n",
        "    ├───...\n",
        "    └───xxx7-xxx007.wav\n",
        "\n",
        "```\n",
        "\n",
        "\n"
      ],
      "metadata": {
        "id": "kBlju6Q3lSM6"
      }
    },
    {
      "cell_type": "code",
      "source": [
        "#@title 从谷歌云盘加载打包好的数据集进行预处理\n",
        "#@markdown **sovits4.0的数据集不再需要特定的文件结构，将数据集的所有wav文件放在同一个文件夹下压缩为zip后上传至谷歌云盘即可，该处理脚本可以一次性预处理多个数据集，处理多个数据集时请依次解压每一个数据集**\n",
        "\n",
        "#@markdown 数据集名称（**人物的英文/拼音名**，与建数据文件夹时统一；不带zip。）\n",
        "DATASETNAME = \"kiritan\"  #@param {type:\"string\"}\n",
        "#@markdown 压缩包路径（谷歌盘路径，传到dataset的就不改这个，没有dataset文件夹就新建一个）\n",
        "ZIP_PATH = \"/content/drive/MyDrive/dataset/\"  #@param {type:\"string\"}\n",
        "ZIP_NAME = ZIP_PATH + DATASETNAME\n",
        "\n",
        "!unzip -d /content/so-vits-svc/dataset_raw {ZIP_NAME}.zip"
      ],
      "metadata": {
        "id": "U05CXlAipvJR"
      },
      "execution_count": null,
      "outputs": []
    },
    {
      "cell_type": "code",
      "source": [
        "#@title 重采样到44100hz\n",
        "!python resample.py"
      ],
      "metadata": {
        "id": "_ThKTzYs5CfL",
        "colab": {
          "base_uri": "https://localhost:8080/"
        },
        "outputId": "9cee2a4e-e87d-46c0-d5c7-28c1f5a5e40c"
      },
      "execution_count": null,
      "outputs": [
        {
          "output_type": "stream",
          "name": "stdout",
          "text": [
            "./dataset_raw/kiritan\n",
            "51it [00:00, 89.46it/s]\n"
          ]
        }
      ]
    },
    {
      "cell_type": "code",
      "source": [
        "#@title 划分训练集 生成配置文件\n",
        "!python preprocess_flist_config.py"
      ],
      "metadata": {
        "id": "svITReeL5N8K",
        "colab": {
          "base_uri": "https://localhost:8080/"
        },
        "outputId": "14536956-5c40-44eb-fb69-9f9afd2caff8"
      },
      "execution_count": null,
      "outputs": [
        {
          "output_type": "stream",
          "name": "stdout",
          "text": [
            "\r  0% 0/1 [00:00<?, ?it/s]\r100% 1/1 [00:00<00:00, 4359.98it/s]\n",
            "Writing ./filelists/train.txt\n",
            "\r  0% 0/47 [00:00<?, ?it/s]\r100% 47/47 [00:00<00:00, 791695.94it/s]\n",
            "Writing ./filelists/val.txt\n",
            "\r  0% 0/2 [00:00<?, ?it/s]\r100% 2/2 [00:00<00:00, 74898.29it/s]\n",
            "Writing ./filelists/test.txt\n",
            "\r  0% 0/2 [00:00<?, ?it/s]\r100% 2/2 [00:00<00:00, 77672.30it/s]\n",
            "Writing configs/config.json\n"
          ]
        }
      ]
    },
    {
      "cell_type": "code",
      "source": [
        "#@title 生成hubert和f0\n",
        "!python preprocess_hubert_f0.py"
      ],
      "metadata": {
        "id": "xHUXMi836DMe"
      },
      "execution_count": null,
      "outputs": []
    },
    {
      "cell_type": "code",
      "source": [
        "#@title 至此 数据集预处理制作完毕，将数据集和相关文件保存到谷歌云盘的dataset文件夹下，方便下次训练使用\n",
        "#压缩dataset文件夹\n",
        "!zip -r dataset.zip /content/so-vits-svc/dataset\n",
        "#@markdown 自定义备份到谷歌云盘的dataset文件夹下的数据集文件夹名，避免混淆\n",
        "dataset_name_drive = \"kiritan_preprocessed\"  #@param {type:\"string\"}\n",
        "DATASET_PATH_DRIVE = \"/content/drive/MyDrive/dataset/\" + dataset_name_drive\n",
        "!mkdir -p {DATASET_PATH_DRIVE}\n",
        "\n",
        "!cp /content/so-vits-svc/dataset.zip \"{DATASET_PATH_DRIVE}\"\n",
        "!cp configs/config.json \"{DATASET_PATH_DRIVE}\"\n",
        "!cp filelists/train.txt \"{DATASET_PATH_DRIVE}\"\n",
        "!cp filelists/val.txt \"{DATASET_PATH_DRIVE}\""
      ],
      "metadata": {
        "id": "Wo4OTmTAUXgj",
        "cellView": "form"
      },
      "execution_count": null,
      "outputs": []
    },
    {
      "cell_type": "code",
      "source": [
        "#@title 已经预处理过数据集的话，就可以跳过预处理部分 直接从云盘解压处理过的数据 以及配置文件\n",
        "#@markdown 从谷歌云盘加载预处理过的数据集，文件夹名和你备份的时候输入的一样\n",
        "back_up_name = \"kiritan_preprocessed\"  #@param {type:\"string\"}\n",
        "BACK_UP_DATASET_PATH = \"/content/drive/MyDrive/dataset/\" + back_up_name\n",
        "!unzip {BACK_UP_DATASET_PATH}/dataset.zip -d /\n",
        "!cp {BACK_UP_DATASET_PATH}/config.json /content/so-vits-svc/configs/config.json\n",
        "!cp {BACK_UP_DATASET_PATH}/val.txt filelists/val.txt\n",
        "!cp {BACK_UP_DATASET_PATH}/train.txt filelists/train.txt\n",
        "\n",
        "\n",
        "# 拷贝云盘上保存的记录点\n",
        "# !cp /content/drive/MyDrive/G_800.pth logs/48k/\n",
        "# !cp /content/drive/MyDrive/D_800.pth logs/48k/"
      ],
      "metadata": {
        "id": "P2G6v_6zblWK"
      },
      "execution_count": null,
      "outputs": []
    },
    {
      "cell_type": "markdown",
      "source": [
        "# 训练"
      ],
      "metadata": {
        "id": "ENoH-pShel7w"
      }
    },
    {
      "cell_type": "code",
      "source": [
        "#@title  选择是否将训练后的模型保存到谷歌云盘 和 是否使用预模型\n",
        "\n",
        "#@markdown **将训练后的模型文件保存到谷歌云盘，勾选后，恢复训练时也需要勾选并执行**\n",
        "Save_to_drive = True #@param {type:\"boolean\"}\n",
        "if Save_to_drive:\n",
        "  !rm -rf /content/so-vits-svc/logs/44k\n",
        "  !mkdir -p /content/drive/MyDrive/44k\n",
        "  !ln -s /content/drive/MyDrive/44k /content/so-vits-svc/logs/44k\n",
        "\n",
        "#@markdown **首次训练下载预模型 之后继续训练则使用自己保存的记录点，无需再下载**\n",
        "\n",
        "#@markdown **使用预模型，下面打钩自动下载并启用**\n",
        "pre_pth = True #@param {type:\"boolean\"}\n",
        "if pre_pth:\n",
        "  #!wget -P logs/44k/ https://huggingface.co/innnky/sovits_pretrained/resolve/main/sovits4/G_0.pth\n",
        "  #!wget -P logs/44k/ https://huggingface.co/innnky/sovits_pretrained/resolve/main/sovits4/D_0.pth\n",
        "\n",
        "  !wget -P logs/44k/ https://huggingface.co/datasets/seq2193/sovits_pretrained/resolve/main/sovits4.0-v2/G_0.pth\n",
        "  !wget -P logs/44k/ https://huggingface.co/datasets/seq2193/sovits_pretrained/resolve/main/sovits4.0-v2/D_0.pth\n"
      ],
      "metadata": {
        "id": "l8J2ubh9KV5J"
      },
      "execution_count": null,
      "outputs": []
    },
    {
      "cell_type": "code",
      "source": [
        "#@title  开始训练\n",
        "\n",
        "#@markdown **开始训练**\n",
        "\n",
        "#@markdown **启用tensorboard可视化数据**\n",
        "tensorboard_on = True #@param {type:\"boolean\"}\n",
        "if tensorboard_on:\n",
        "  %load_ext tensorboard\n",
        "  %tensorboard --logdir logs/44k\n",
        "\n",
        "!python train.py -c configs/config.json -m 44k\n"
      ],
      "metadata": {
        "id": "-hEFFTCfZf57"
      },
      "execution_count": null,
      "outputs": []
    },
    {
      "cell_type": "code",
      "source": [
        "#@title 聚类音色泄漏控制 (选用)\n",
        "\n",
        "#@markdown # 聚类音色泄漏控制 Train cluster model (Optional)\n",
        "\n",
        "#@markdown #### 詳情參見 [README.md#cluster-based-timbre-leakage-control](https://github.com/svc-develop-team/so-vits-svc#cluster-based-timbre-leakage-control)\n",
        "\n",
        "#@markdown 执行python cluster/train_cluster.py ，模型的输出会在 logs/44k/kmeans_10000.pt\n",
        "\n",
        "!python cluster/train_cluster.py"
      ],
      "metadata": {
        "id": "nVJkDOVFassu"
      },
      "execution_count": null,
      "outputs": []
    },
    {
      "cell_type": "code",
      "source": [
        "#@title 手动将训练后的模型文件备份到谷歌云盘\n",
        "#@markdown 需要自己查看/content/so-vits-svc/logs/44k/文件夹下模型的文件名，手动修改下方命令末尾的文件名\n",
        "!mv /content/so-vits-svc/logs/44k/G_1000.pth /content/drive/MyDrive\n",
        "!mv /content/so-vits-svc/logs/44k/D_1000.pth /content/drive/MyDrive"
      ],
      "metadata": {
        "id": "KiNCWprSPlKH"
      },
      "execution_count": null,
      "outputs": []
    },
    {
      "cell_type": "markdown",
      "source": [
        "## 加载歌手模型"
      ],
      "metadata": {
        "id": "gYZr24dsv4bz"
      }
    },
    {
      "cell_type": "code",
      "source": [
        "#@title 从huggingface下载模型\n",
        "#@markdown **注意：4.0与4.0-v2模型完全不通用**\n",
        "pth_link=\"\" #@param{type:\"string\"}\n",
        "config_link=\"\" #@param{type:\"string\"}\n",
        "cluster_model_path=\"\" #@param{type:\"string\"}\n",
        "!wget -P /content/so-vits-svc/logs/44k {pth_link}\n",
        "!wget -O /content/so-vits-svc/configs/config.json  {config_link}\n",
        "!wget -P /content/so-vits-svc/logs/44k {cluster_model_path}"
      ],
      "metadata": {
        "id": "aQkDUD2gv7ii",
        "cellView": "form"
      },
      "execution_count": null,
      "outputs": []
    },
    {
      "cell_type": "markdown",
      "source": [
        "# 推理"
      ],
      "metadata": {
        "id": "oCnbX-OT897k"
      }
    },
    {
      "cell_type": "code",
      "source": [
        "#@markdown 下载示例音频合成 風になる\n",
        "!gdown --id 1d-npX0KOYW5AE2fh0z1mkX3nFYvyrRii -O /content/so-vits-svc/raw/風になる.wav"
      ],
      "metadata": {
        "id": "DAFy43VPkTyM"
      },
      "execution_count": null,
      "outputs": []
    },
    {
      "cell_type": "code",
      "source": [
        "#@title 上传.wav音频文件\n",
        "import os\n",
        "from google.colab import files\n",
        "\n",
        "save_dir = \"/content/so-vits-svc/raw\"\n",
        "if not os.path.exists(save_dir):\n",
        "    os.makedirs(save_dir)\n",
        "\n",
        "uploaded = files.upload()\n",
        "file_name = list(uploaded.keys())[0]\n",
        "file_path = os.path.join(save_dir, file_name)\n",
        "with open(file_path, \"wb\") as f:\n",
        "    f.write(uploaded[file_name])\n",
        "print(f\"File saved at: {file_path}\")\n"
      ],
      "metadata": {
        "id": "RLn0mxtCegv1"
      },
      "execution_count": null,
      "outputs": []
    },
    {
      "cell_type": "code",
      "source": [
        "#@title 合成音频（推理）\n",
        "#@markdown 需要将音频上传到so-vits-svc/raw 文件夹下, 然后设置模型路径、配置文件路径、合成的音频名称\n",
        "\n",
        "!python inference_main.py -m \"logs/44k/G_1600.pth\" -c \"configs/config.json\" -n \"君の知らない物語-src.wav\" -s kiritan\n"
      ],
      "metadata": {
        "id": "dYnKuKTIj3z1"
      },
      "execution_count": null,
      "outputs": []
    },
    {
      "cell_type": "code",
      "source": [
        "#@title 合成音频（推理）修改\n",
        "#@markdown 需要将音频上传到so-vits-svc/raw 文件夹下, 然后设置模型路径、配置文件路径、合成的音频名称\n",
        "model_path = \"logs/44k/G_2000.pth\" #@param {type:\"string\"}\n",
        "config_path = \"configs/config.json\" #@param {type:\"string\"}\n",
        "clean_names = \"\\u98A8\\u306B\\u306A\\u308B.wav\" #@param {type:\"string\"}\n",
        "spk_list = \"kumi\" #@param {type:\"string\"}\n",
        "trans = \"0\"  #@param {type:\"string\"}\n",
        "#@markdown **聚类音色泄漏控制**\n",
        "\n",
        "#@markdown 0为完全不使用聚类，1为只使用聚类，通常设置0.5即可\n",
        "cluster_infer_ratio = \"0\"  #@param {type:\"string\"}\n",
        "slice_db = \"-40\"  #@param {type:\"string\"}\n",
        "wav_format = \"flac\"  #@param {type:\"string\"}\n",
        "wav_output = \"/content/so-vits-svc/results/\" + clean_names + \"_\" + trans + \"key\" + \"_\" + spk_list + \".\" + wav_format\n",
        "\n",
        "!python inference_main.py -m {model_path} -c {config_path} -n \"{clean_names}\" -t {trans} -s {spk_list}  -cr {cluster_infer_ratio} -sd {slice_db} -wf {wav_format}\n",
        "\n",
        "#@markdown 如果您不想從此處下載，請取消選中此選項。\n",
        "download_after_inference = True  #@param {type:\"boolean\"}\n",
        "\n",
        "if download_after_inference:\n",
        "  from google.colab import files\n",
        "  files.download(wav_output)"
      ],
      "metadata": {
        "id": "UIsP6nm7fXrs"
      },
      "execution_count": null,
      "outputs": []
    }
  ]
}